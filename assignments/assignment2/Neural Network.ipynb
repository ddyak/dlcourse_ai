{
 "cells": [
  {
   "cell_type": "markdown",
   "metadata": {},
   "source": [
    "# Задание 2.1 - Нейронные сети\n",
    "\n",
    "В этом задании вы реализуете и натренируете настоящую нейроную сеть своими руками!\n",
    "\n",
    "В некотором смысле это будет расширением прошлого задания - нам нужно просто составить несколько линейных классификаторов вместе!\n",
    "\n",
    "<img src=\"https://i.redd.it/n9fgba8b0qr01.png\" alt=\"Stack_more_layers\" width=\"400px\"/>"
   ]
  },
  {
   "cell_type": "code",
   "execution_count": 1,
   "metadata": {},
   "outputs": [],
   "source": [
    "import numpy as np\n",
    "import matplotlib.pyplot as plt\n",
    "\n",
    "%matplotlib inline\n",
    "\n",
    "%load_ext autoreload\n",
    "%autoreload 2"
   ]
  },
  {
   "cell_type": "code",
   "execution_count": 2,
   "metadata": {},
   "outputs": [],
   "source": [
    "from dataset import load_svhn, random_split_train_val\n",
    "from gradient_check import check_layer_gradient, check_layer_param_gradient, check_model_gradient\n",
    "from layers import FullyConnectedLayer, ReLULayer\n",
    "from model import TwoLayerNet\n",
    "from trainer import Trainer, Dataset\n",
    "from optim import SGD, MomentumSGD\n",
    "from metrics import multiclass_accuracy"
   ]
  },
  {
   "cell_type": "markdown",
   "metadata": {},
   "source": [
    "# Загружаем данные\n",
    "\n",
    "И разделяем их на training и validation."
   ]
  },
  {
   "cell_type": "code",
   "execution_count": 3,
   "metadata": {},
   "outputs": [],
   "source": [
    "def prepare_for_neural_network(train_X, test_X):\n",
    "    train_flat = train_X.reshape(train_X.shape[0], -1).astype(np.float) / 255.0\n",
    "    test_flat = test_X.reshape(test_X.shape[0], -1).astype(np.float) / 255.0\n",
    "    \n",
    "    # Subtract mean\n",
    "    mean_image = np.mean(train_flat, axis = 0)\n",
    "    train_flat -= mean_image\n",
    "    test_flat -= mean_image\n",
    "    \n",
    "    return train_flat, test_flat\n",
    "    \n",
    "train_X, train_y, test_X, test_y = load_svhn(\"data\", max_train=10000, max_test=1000)    \n",
    "train_X, test_X = prepare_for_neural_network(train_X, test_X)\n",
    "# Split train into train and val\n",
    "train_X, train_y, val_X, val_y = random_split_train_val(train_X, train_y, num_val = 1000)"
   ]
  },
  {
   "cell_type": "markdown",
   "metadata": {},
   "source": [
    "# Как всегда, начинаем с кирпичиков\n",
    "\n",
    "Мы будем реализовывать необходимые нам слои по очереди. Каждый слой должен реализовать:\n",
    "- прямой проход (forward pass), который генерирует выход слоя по входу и запоминает необходимые данные\n",
    "- обратный проход (backward pass), который получает градиент по выходу слоя и вычисляет градиент по входу и по параметрам\n",
    "\n",
    "Начнем с ReLU, у которого параметров нет."
   ]
  },
  {
   "cell_type": "code",
   "execution_count": 4,
   "metadata": {
    "scrolled": false
   },
   "outputs": [
    {
     "name": "stdout",
     "output_type": "stream",
     "text": [
      "Gradient check passed!\n"
     ]
    }
   ],
   "source": [
    "# TODO: Implement ReLULayer layer in layers.py\n",
    "# Note: you'll need to copy implementation of the gradient_check function from the previous assignment\n",
    "\n",
    "X = np.array([[1,-2,3],\n",
    "              [-1, 2, 0.1]\n",
    "              ])\n",
    "\n",
    "assert check_layer_gradient(ReLULayer(), X)"
   ]
  },
  {
   "cell_type": "markdown",
   "metadata": {},
   "source": [
    "А теперь реализуем полносвязный слой (fully connected layer), у которого будет два массива параметров: W (weights) и B (bias).\n",
    "\n",
    "Все параметры наши слои будут использовать для параметров специальный класс `Param`, в котором будут храниться значения параметров и градиенты этих параметров, вычисляемые во время обратного прохода.\n",
    "\n",
    "Это даст возможность аккумулировать (суммировать) градиенты из разных частей функции потерь, например, из cross-entropy loss и regularization loss."
   ]
  },
  {
   "cell_type": "code",
   "execution_count": 5,
   "metadata": {},
   "outputs": [
    {
     "name": "stdout",
     "output_type": "stream",
     "text": [
      "Gradient check passed!\n",
      "Gradient check passed!\n",
      "Gradient check passed!\n"
     ]
    }
   ],
   "source": [
    "# TODO: Implement FullyConnected layer forward and backward methods\n",
    "assert check_layer_gradient(FullyConnectedLayer(3, 4), X)\n",
    "# TODO: Implement storing gradients for W and B\n",
    "assert check_layer_param_gradient(FullyConnectedLayer(3, 4), X, 'W')\n",
    "assert check_layer_param_gradient(FullyConnectedLayer(3, 4), X, 'B')"
   ]
  },
  {
   "cell_type": "markdown",
   "metadata": {},
   "source": [
    "## Создаем нейронную сеть\n",
    "\n",
    "Теперь мы реализуем простейшую нейронную сеть с двумя полносвязным слоями и нелинейностью ReLU. Реализуйте функцию `compute_loss_and_gradients`, она должна запустить прямой и обратный проход через оба слоя для вычисления градиентов.\n",
    "\n",
    "Не забудьте реализовать очистку градиентов в начале функции."
   ]
  },
  {
   "cell_type": "code",
   "execution_count": 6,
   "metadata": {},
   "outputs": [
    {
     "name": "stdout",
     "output_type": "stream",
     "text": [
      "Checking gradient for W_out\n",
      "Gradient check passed!\n",
      "Checking gradient for W_in\n",
      "Gradient check passed!\n",
      "Checking gradient for B_out\n",
      "Gradient check passed!\n",
      "Checking gradient for B_in\n",
      "Gradient check passed!\n"
     ]
    },
    {
     "data": {
      "text/plain": [
       "True"
      ]
     },
     "execution_count": 6,
     "metadata": {},
     "output_type": "execute_result"
    }
   ],
   "source": [
    "# TODO: In model.py, implement compute_loss_and_gradients function\n",
    "model = TwoLayerNet(n_input = train_X.shape[1], n_output = 10, hidden_layer_size = 3, reg = 0)\n",
    "loss = model.compute_loss_and_gradients(train_X[:2], train_y[:2])\n",
    "\n",
    "# TODO Now implement backward pass and aggregate all of the params\n",
    "check_model_gradient(model, train_X[:2], train_y[:2])"
   ]
  },
  {
   "cell_type": "markdown",
   "metadata": {},
   "source": [
    "Теперь добавьте к модели регуляризацию - она должна прибавляться к loss и делать свой вклад в градиенты."
   ]
  },
  {
   "cell_type": "code",
   "execution_count": 7,
   "metadata": {},
   "outputs": [
    {
     "name": "stdout",
     "output_type": "stream",
     "text": [
      "Checking gradient for W_out\n",
      "Gradient check passed!\n",
      "Checking gradient for W_in\n",
      "Gradient check passed!\n",
      "Checking gradient for B_out\n",
      "Gradient check passed!\n",
      "Checking gradient for B_in\n",
      "Gradient check passed!\n"
     ]
    },
    {
     "data": {
      "text/plain": [
       "True"
      ]
     },
     "execution_count": 7,
     "metadata": {},
     "output_type": "execute_result"
    }
   ],
   "source": [
    "# TODO Now implement l2 regularization in the forward and backward pass\n",
    "model_with_reg = TwoLayerNet(n_input = train_X.shape[1], n_output = 10, hidden_layer_size = 3, reg = 1e1)\n",
    "loss_with_reg = model_with_reg.compute_loss_and_gradients(train_X[:2], train_y[:2])\n",
    "assert loss_with_reg > loss and not np.isclose(loss_with_reg, loss), \\\n",
    "    \"Loss with regularization (%2.4f) should be higher than without it (%2.4f)!\" % (loss, loss_with_reg)\n",
    "\n",
    "check_model_gradient(model_with_reg, train_X[:2], train_y[:2])"
   ]
  },
  {
   "cell_type": "markdown",
   "metadata": {},
   "source": [
    "Также реализуем функцию предсказания (вычисления значения) модели на новых данных.\n",
    "\n",
    "Какое значение точности мы ожидаем увидеть до начала тренировки?\n",
    "\n",
    "**Ответ:** В среднем 0.1, поскольку сеть нетренирована. Флуктуации обеспечены рандомным распределением весов сети."
   ]
  },
  {
   "cell_type": "code",
   "execution_count": 8,
   "metadata": {},
   "outputs": [
    {
     "data": {
      "text/plain": [
       "0.1"
      ]
     },
     "execution_count": 8,
     "metadata": {},
     "output_type": "execute_result"
    }
   ],
   "source": [
    "# Finally, implement predict function!\n",
    "\n",
    "# TODO: Implement predict function\n",
    "# What would be the value we expect?\n",
    "multiclass_accuracy(model_with_reg.predict(train_X[:30]), train_y[:30]) "
   ]
  },
  {
   "cell_type": "markdown",
   "metadata": {},
   "source": [
    "# Допишем код для процесса тренировки\n",
    "\n",
    "Если все реализовано корректно, значение функции ошибки должно уменьшаться с каждой эпохой, пусть и медленно. Не беспокойтесь пока про validation accuracy."
   ]
  },
  {
   "cell_type": "code",
   "execution_count": 9,
   "metadata": {},
   "outputs": [
    {
     "name": "stdout",
     "output_type": "stream",
     "text": [
      "Loss: 2.217057, Train accuracy: 0.196667, val accuracy: 0.206000\n",
      "Loss: 2.157437, Train accuracy: 0.196667, val accuracy: 0.206000\n",
      "Loss: 2.115648, Train accuracy: 0.196667, val accuracy: 0.206000\n",
      "Loss: 2.287707, Train accuracy: 0.196667, val accuracy: 0.206000\n",
      "Loss: 2.176635, Train accuracy: 0.196667, val accuracy: 0.206000\n",
      "Loss: 2.070778, Train accuracy: 0.196667, val accuracy: 0.206000\n",
      "Loss: 2.389343, Train accuracy: 0.196667, val accuracy: 0.206000\n",
      "Loss: 2.201810, Train accuracy: 0.196667, val accuracy: 0.206000\n",
      "Loss: 2.268138, Train accuracy: 0.196667, val accuracy: 0.206000\n",
      "Loss: 2.177243, Train accuracy: 0.196667, val accuracy: 0.206000\n",
      "Loss: 2.188959, Train accuracy: 0.196667, val accuracy: 0.206000\n",
      "Loss: 2.288565, Train accuracy: 0.196667, val accuracy: 0.206000\n",
      "Loss: 2.324022, Train accuracy: 0.196667, val accuracy: 0.206000\n",
      "Loss: 2.277031, Train accuracy: 0.196667, val accuracy: 0.206000\n",
      "Loss: 2.376680, Train accuracy: 0.196667, val accuracy: 0.206000\n",
      "Loss: 2.181966, Train accuracy: 0.196667, val accuracy: 0.206000\n",
      "Loss: 2.288749, Train accuracy: 0.196667, val accuracy: 0.206000\n",
      "Loss: 2.281310, Train accuracy: 0.196667, val accuracy: 0.206000\n",
      "Loss: 2.245181, Train accuracy: 0.196667, val accuracy: 0.206000\n",
      "Loss: 2.235221, Train accuracy: 0.196667, val accuracy: 0.206000\n"
     ]
    }
   ],
   "source": [
    "model = TwoLayerNet(n_input = train_X.shape[1], n_output = 10, hidden_layer_size = 100, reg = 1e1)\n",
    "dataset = Dataset(train_X, train_y, val_X, val_y)\n",
    "trainer = Trainer(model, dataset, SGD(), learning_rate = 1e-2)\n",
    "\n",
    "# TODO Implement missing pieces in Trainer.fit function\n",
    "# You should expect loss to go down every epoch, even if it's slow\n",
    "loss_history, train_history, val_history = trainer.fit()"
   ]
  },
  {
   "cell_type": "code",
   "execution_count": 10,
   "metadata": {},
   "outputs": [
    {
     "data": {
      "text/plain": [
       "[<matplotlib.lines.Line2D at 0x7fb2a3afa518>]"
      ]
     },
     "execution_count": 10,
     "metadata": {},
     "output_type": "execute_result"
    },
    {
     "data": {
      "image/png": "[encoded data removed]",
      "text/plain": [
       "<Figure size 432x288 with 1 Axes>"
      ]
     },
     "metadata": {
      "needs_background": "light"
     },
     "output_type": "display_data"
    }
   ],
   "source": [
    "plt.plot(loss_history)"
   ]
  },
  {
   "cell_type": "markdown",
   "metadata": {},
   "source": [
    "# Улучшаем процесс тренировки\n",
    "\n",
    "Мы реализуем несколько ключевых оптимизаций, необходимых для тренировки современных нейросетей."
   ]
  },
  {
   "cell_type": "markdown",
   "metadata": {},
   "source": [
    "## Уменьшение скорости обучения (learning rate decay)\n",
    "\n",
    "Одна из необходимых оптимизаций во время тренировки нейронных сетей - постепенное уменьшение скорости обучения по мере тренировки.\n",
    "\n",
    "Один из стандартных методов - уменьшение скорости обучения (learning rate) каждые N эпох на коэффициент d (часто называемый decay). Значения N и d, как всегда, являются гиперпараметрами и должны подбираться на основе эффективности на проверочных данных (validation data). \n",
    "\n",
    "В нашем случае N будет равным 1."
   ]
  },
  {
   "cell_type": "code",
   "execution_count": 11,
   "metadata": {},
   "outputs": [
    {
     "name": "stdout",
     "output_type": "stream",
     "text": [
      "Loss: 2.250718, Train accuracy: 0.196667, val accuracy: 0.206000\n",
      "Loss: 2.369508, Train accuracy: 0.196667, val accuracy: 0.206000\n",
      "Loss: 2.209910, Train accuracy: 0.196667, val accuracy: 0.206000\n",
      "Loss: 2.258537, Train accuracy: 0.196667, val accuracy: 0.206000\n",
      "Loss: 2.188416, Train accuracy: 0.196667, val accuracy: 0.206000\n",
      "Loss: 2.205064, Train accuracy: 0.196667, val accuracy: 0.206000\n",
      "Loss: 2.126148, Train accuracy: 0.196667, val accuracy: 0.206000\n",
      "Loss: 2.319578, Train accuracy: 0.196667, val accuracy: 0.206000\n",
      "Loss: 2.325751, Train accuracy: 0.196667, val accuracy: 0.206000\n",
      "Loss: 2.320998, Train accuracy: 0.196667, val accuracy: 0.206000\n",
      "Loss: 2.175592, Train accuracy: 0.196667, val accuracy: 0.206000\n",
      "Loss: 2.265976, Train accuracy: 0.196667, val accuracy: 0.206000\n",
      "Loss: 2.363186, Train accuracy: 0.196667, val accuracy: 0.206000\n",
      "Loss: 2.131519, Train accuracy: 0.196667, val accuracy: 0.206000\n",
      "Loss: 2.410504, Train accuracy: 0.196667, val accuracy: 0.206000\n",
      "Loss: 2.228590, Train accuracy: 0.196667, val accuracy: 0.206000\n",
      "Loss: 2.294455, Train accuracy: 0.196667, val accuracy: 0.206000\n",
      "Loss: 2.242233, Train accuracy: 0.196667, val accuracy: 0.206000\n",
      "Loss: 2.233189, Train accuracy: 0.196667, val accuracy: 0.206000\n",
      "Loss: 2.213630, Train accuracy: 0.196667, val accuracy: 0.206000\n"
     ]
    }
   ],
   "source": [
    "# TODO Implement learning rate decay inside Trainer.fit method\n",
    "# Decay should happen once per epoch\n",
    "\n",
    "model = TwoLayerNet(n_input = train_X.shape[1], n_output = 10, hidden_layer_size = 100, reg = 1e-1)\n",
    "dataset = Dataset(train_X, train_y, val_X, val_y)\n",
    "trainer = Trainer(model, dataset, SGD(), learning_rate_decay=0.99)\n",
    "\n",
    "initial_learning_rate = trainer.learning_rate\n",
    "loss_history, train_history, val_history = trainer.fit()\n",
    "\n",
    "assert trainer.learning_rate < initial_learning_rate, \"Learning rate should've been reduced\"\n",
    "assert trainer.learning_rate > 0.5*initial_learning_rate, \"Learning rate shouldn'tve been reduced that much!\""
   ]
  },
  {
   "cell_type": "markdown",
   "metadata": {},
   "source": [
    "# Накопление импульса (Momentum SGD)\n",
    "\n",
    "Другой большой класс оптимизаций - использование более эффективных методов градиентного спуска. Мы реализуем один из них - накопление импульса (Momentum SGD).\n",
    "\n",
    "Этот метод хранит скорость движения, использует градиент для ее изменения на каждом шаге, и изменяет веса пропорционально значению скорости.\n",
    "(Физическая аналогия: Вместо скорости градиенты теперь будут задавать ускорение, но будет присутствовать сила трения.)\n",
    "\n",
    "```\n",
    "velocity = momentum * velocity - learning_rate * gradient \n",
    "w = w + velocity\n",
    "```\n",
    "\n",
    "`momentum` здесь коэффициент затухания, который тоже является гиперпараметром (к счастью, для него часто есть хорошее значение по умолчанию, типичный диапазон -- 0.8-0.99).\n",
    "\n",
    "Несколько полезных ссылок, где метод разбирается более подробно:  \n",
    "http://cs231n.github.io/neural-networks-3/#sgd  \n",
    "https://distill.pub/2017/momentum/"
   ]
  },
  {
   "cell_type": "code",
   "execution_count": 12,
   "metadata": {},
   "outputs": [
    {
     "name": "stdout",
     "output_type": "stream",
     "text": [
      "Loss: 2.321504, Train accuracy: 0.196667, val accuracy: 0.206000\n",
      "Loss: 2.305573, Train accuracy: 0.196667, val accuracy: 0.206000\n",
      "Loss: 2.315005, Train accuracy: 0.196667, val accuracy: 0.206000\n",
      "Loss: 2.249502, Train accuracy: 0.196667, val accuracy: 0.206000\n",
      "Loss: 2.255664, Train accuracy: 0.196667, val accuracy: 0.206000\n",
      "Loss: 2.300977, Train accuracy: 0.196667, val accuracy: 0.206000\n",
      "Loss: 2.243300, Train accuracy: 0.196667, val accuracy: 0.206000\n",
      "Loss: 2.259131, Train accuracy: 0.196667, val accuracy: 0.206000\n",
      "Loss: 2.240870, Train accuracy: 0.196667, val accuracy: 0.206000\n",
      "Loss: 2.256889, Train accuracy: 0.196667, val accuracy: 0.206000\n",
      "Loss: 2.250501, Train accuracy: 0.196667, val accuracy: 0.206000\n",
      "Loss: 2.305861, Train accuracy: 0.196667, val accuracy: 0.206000\n",
      "Loss: 2.215956, Train accuracy: 0.196667, val accuracy: 0.206000\n",
      "Loss: 2.277011, Train accuracy: 0.196667, val accuracy: 0.206000\n",
      "Loss: 2.266154, Train accuracy: 0.196667, val accuracy: 0.206000\n",
      "Loss: 2.247150, Train accuracy: 0.196667, val accuracy: 0.206000\n",
      "Loss: 2.248955, Train accuracy: 0.196667, val accuracy: 0.206000\n",
      "Loss: 2.205055, Train accuracy: 0.196667, val accuracy: 0.206000\n",
      "Loss: 2.180664, Train accuracy: 0.196667, val accuracy: 0.206000\n",
      "Loss: 2.308770, Train accuracy: 0.196667, val accuracy: 0.206000\n"
     ]
    }
   ],
   "source": [
    "# TODO: Implement MomentumSGD.update function in optim.py\n",
    "\n",
    "model = TwoLayerNet(n_input = train_X.shape[1], n_output = 10, hidden_layer_size = 100, reg = 1e-1)\n",
    "dataset = Dataset(train_X, train_y, val_X, val_y)\n",
    "trainer = Trainer(model, dataset, MomentumSGD(), learning_rate=1e-4, learning_rate_decay=0.99)\n",
    "\n",
    "# You should see even better results than before!\n",
    "loss_history, train_history, val_history = trainer.fit()"
   ]
  },
  {
   "cell_type": "markdown",
   "metadata": {},
   "source": [
    "# Ну что, давайте уже тренировать сеть!"
   ]
  },
  {
   "cell_type": "markdown",
   "metadata": {},
   "source": [
    "## Последний тест - переобучимся (overfit) на маленьком наборе данных\n",
    "\n",
    "Хороший способ проверить, все ли реализовано корректно - переобучить сеть на маленьком наборе данных.  \n",
    "Наша модель обладает достаточной мощностью, чтобы приблизить маленький набор данных идеально, поэтому мы ожидаем, что на нем мы быстро дойдем до 100% точности на тренировочном наборе. \n",
    "\n",
    "Если этого не происходит, то где-то была допущена ошибка!"
   ]
  },
  {
   "cell_type": "code",
   "execution_count": 13,
   "metadata": {},
   "outputs": [
    {
     "name": "stdout",
     "output_type": "stream",
     "text": [
      "Loss: 2.351618, Train accuracy: 0.266667, val accuracy: 0.066667\n",
      "Loss: 2.318467, Train accuracy: 0.266667, val accuracy: 0.066667\n",
      "Loss: 2.291136, Train accuracy: 0.200000, val accuracy: 0.066667\n",
      "Loss: 2.341864, Train accuracy: 0.200000, val accuracy: 0.133333\n",
      "Loss: 2.302463, Train accuracy: 0.200000, val accuracy: 0.066667\n",
      "Loss: 2.319034, Train accuracy: 0.200000, val accuracy: 0.066667\n",
      "Loss: 2.235521, Train accuracy: 0.200000, val accuracy: 0.066667\n",
      "Loss: 2.170412, Train accuracy: 0.266667, val accuracy: 0.000000\n",
      "Loss: 2.144598, Train accuracy: 0.400000, val accuracy: 0.000000\n",
      "Loss: 2.000302, Train accuracy: 0.400000, val accuracy: 0.000000\n",
      "Loss: 1.842682, Train accuracy: 0.400000, val accuracy: 0.000000\n",
      "Loss: 2.238035, Train accuracy: 0.400000, val accuracy: 0.000000\n",
      "Loss: 1.616099, Train accuracy: 0.400000, val accuracy: 0.000000\n",
      "Loss: 2.203432, Train accuracy: 0.400000, val accuracy: 0.000000\n",
      "Loss: 1.902569, Train accuracy: 0.400000, val accuracy: 0.000000\n",
      "Loss: 1.637197, Train accuracy: 0.400000, val accuracy: 0.000000\n",
      "Loss: 2.003430, Train accuracy: 0.400000, val accuracy: 0.000000\n",
      "Loss: 1.394373, Train accuracy: 0.400000, val accuracy: 0.000000\n",
      "Loss: 1.492224, Train accuracy: 0.400000, val accuracy: 0.000000\n",
      "Loss: 1.807273, Train accuracy: 0.466667, val accuracy: 0.000000\n",
      "Loss: 2.022181, Train accuracy: 0.400000, val accuracy: 0.000000\n",
      "Loss: 1.577554, Train accuracy: 0.466667, val accuracy: 0.000000\n",
      "Loss: 1.866207, Train accuracy: 0.400000, val accuracy: 0.066667\n",
      "Loss: 1.908744, Train accuracy: 0.466667, val accuracy: 0.066667\n",
      "Loss: 1.159965, Train accuracy: 0.466667, val accuracy: 0.066667\n",
      "Loss: 2.083456, Train accuracy: 0.466667, val accuracy: 0.066667\n",
      "Loss: 1.642604, Train accuracy: 0.466667, val accuracy: 0.066667\n",
      "Loss: 2.125341, Train accuracy: 0.466667, val accuracy: 0.066667\n",
      "Loss: 1.993812, Train accuracy: 0.466667, val accuracy: 0.066667\n",
      "Loss: 1.343383, Train accuracy: 0.466667, val accuracy: 0.000000\n",
      "Loss: 1.837536, Train accuracy: 0.600000, val accuracy: 0.000000\n",
      "Loss: 1.609352, Train accuracy: 0.533333, val accuracy: 0.000000\n",
      "Loss: 1.314199, Train accuracy: 0.533333, val accuracy: 0.066667\n",
      "Loss: 1.798446, Train accuracy: 0.600000, val accuracy: 0.066667\n",
      "Loss: 1.659346, Train accuracy: 0.600000, val accuracy: 0.000000\n",
      "Loss: 1.933030, Train accuracy: 0.600000, val accuracy: 0.000000\n",
      "Loss: 1.083985, Train accuracy: 0.600000, val accuracy: 0.066667\n",
      "Loss: 1.491238, Train accuracy: 0.600000, val accuracy: 0.066667\n",
      "Loss: 1.731915, Train accuracy: 0.600000, val accuracy: 0.000000\n",
      "Loss: 1.788430, Train accuracy: 0.666667, val accuracy: 0.000000\n",
      "Loss: 2.425725, Train accuracy: 0.666667, val accuracy: 0.000000\n",
      "Loss: 1.017317, Train accuracy: 0.666667, val accuracy: 0.000000\n",
      "Loss: 1.558682, Train accuracy: 0.666667, val accuracy: 0.000000\n",
      "Loss: 1.728849, Train accuracy: 0.666667, val accuracy: 0.000000\n",
      "Loss: 1.452117, Train accuracy: 0.666667, val accuracy: 0.066667\n",
      "Loss: 1.861666, Train accuracy: 0.666667, val accuracy: 0.000000\n",
      "Loss: 1.198709, Train accuracy: 0.733333, val accuracy: 0.000000\n",
      "Loss: 1.657933, Train accuracy: 0.733333, val accuracy: 0.000000\n",
      "Loss: 1.558153, Train accuracy: 0.733333, val accuracy: 0.000000\n",
      "Loss: 1.384778, Train accuracy: 0.800000, val accuracy: 0.133333\n",
      "Loss: 1.625072, Train accuracy: 0.733333, val accuracy: 0.000000\n",
      "Loss: 1.549759, Train accuracy: 0.800000, val accuracy: 0.000000\n",
      "Loss: 1.617123, Train accuracy: 0.800000, val accuracy: 0.000000\n",
      "Loss: 1.739898, Train accuracy: 0.800000, val accuracy: 0.000000\n",
      "Loss: 1.417619, Train accuracy: 0.800000, val accuracy: 0.000000\n",
      "Loss: 1.533807, Train accuracy: 0.800000, val accuracy: 0.133333\n",
      "Loss: 1.011228, Train accuracy: 0.733333, val accuracy: 0.000000\n",
      "Loss: 0.936917, Train accuracy: 0.800000, val accuracy: 0.000000\n",
      "Loss: 1.408309, Train accuracy: 0.800000, val accuracy: 0.000000\n",
      "Loss: 1.036403, Train accuracy: 0.800000, val accuracy: 0.066667\n",
      "Loss: 1.865917, Train accuracy: 0.800000, val accuracy: 0.000000\n",
      "Loss: 1.592674, Train accuracy: 0.800000, val accuracy: 0.000000\n",
      "Loss: 1.323204, Train accuracy: 0.800000, val accuracy: 0.000000\n",
      "Loss: 1.334323, Train accuracy: 0.800000, val accuracy: 0.000000\n",
      "Loss: 1.938533, Train accuracy: 0.800000, val accuracy: 0.066667\n",
      "Loss: 1.275339, Train accuracy: 0.800000, val accuracy: 0.066667\n",
      "Loss: 1.253094, Train accuracy: 0.800000, val accuracy: 0.000000\n",
      "Loss: 0.897369, Train accuracy: 0.800000, val accuracy: 0.000000\n",
      "Loss: 1.138715, Train accuracy: 0.800000, val accuracy: 0.000000\n",
      "Loss: 1.601602, Train accuracy: 0.800000, val accuracy: 0.066667\n",
      "Loss: 1.564878, Train accuracy: 0.800000, val accuracy: 0.000000\n",
      "Loss: 1.059963, Train accuracy: 0.800000, val accuracy: 0.000000\n",
      "Loss: 1.502392, Train accuracy: 0.800000, val accuracy: 0.000000\n",
      "Loss: 1.681630, Train accuracy: 0.800000, val accuracy: 0.000000\n",
      "Loss: 1.228649, Train accuracy: 0.800000, val accuracy: 0.000000\n",
      "Loss: 1.550753, Train accuracy: 0.800000, val accuracy: 0.000000\n",
      "Loss: 1.786590, Train accuracy: 0.800000, val accuracy: 0.000000\n",
      "Loss: 1.226258, Train accuracy: 0.800000, val accuracy: 0.066667\n",
      "Loss: 0.957398, Train accuracy: 0.800000, val accuracy: 0.066667\n",
      "Loss: 1.442177, Train accuracy: 0.800000, val accuracy: 0.066667\n",
      "Loss: 1.435122, Train accuracy: 0.800000, val accuracy: 0.000000\n",
      "Loss: 1.106624, Train accuracy: 0.800000, val accuracy: 0.000000\n",
      "Loss: 1.231636, Train accuracy: 0.800000, val accuracy: 0.000000\n",
      "Loss: 1.457298, Train accuracy: 0.800000, val accuracy: 0.000000\n",
      "Loss: 0.921533, Train accuracy: 0.800000, val accuracy: 0.000000\n",
      "Loss: 1.184508, Train accuracy: 0.866667, val accuracy: 0.000000\n",
      "Loss: 1.222668, Train accuracy: 0.800000, val accuracy: 0.000000\n",
      "Loss: 0.944016, Train accuracy: 0.866667, val accuracy: 0.000000\n",
      "Loss: 1.295791, Train accuracy: 0.866667, val accuracy: 0.000000\n",
      "Loss: 1.478291, Train accuracy: 0.866667, val accuracy: 0.000000\n",
      "Loss: 1.294451, Train accuracy: 0.866667, val accuracy: 0.000000\n",
      "Loss: 1.375229, Train accuracy: 0.866667, val accuracy: 0.000000\n",
      "Loss: 1.415711, Train accuracy: 0.933333, val accuracy: 0.000000\n",
      "Loss: 1.056241, Train accuracy: 0.933333, val accuracy: 0.000000\n",
      "Loss: 1.258684, Train accuracy: 1.000000, val accuracy: 0.000000\n",
      "Loss: 1.131832, Train accuracy: 0.933333, val accuracy: 0.000000\n",
      "Loss: 1.053068, Train accuracy: 1.000000, val accuracy: 0.000000\n",
      "Loss: 1.455916, Train accuracy: 1.000000, val accuracy: 0.000000\n",
      "Loss: 1.092817, Train accuracy: 1.000000, val accuracy: 0.000000\n",
      "Loss: 1.412114, Train accuracy: 1.000000, val accuracy: 0.066667\n",
      "Loss: 1.628100, Train accuracy: 1.000000, val accuracy: 0.066667\n",
      "Loss: 1.204674, Train accuracy: 1.000000, val accuracy: 0.000000\n",
      "Loss: 1.558378, Train accuracy: 1.000000, val accuracy: 0.000000\n",
      "Loss: 1.095451, Train accuracy: 1.000000, val accuracy: 0.066667\n",
      "Loss: 1.280285, Train accuracy: 1.000000, val accuracy: 0.000000\n",
      "Loss: 1.103288, Train accuracy: 1.000000, val accuracy: 0.000000\n",
      "Loss: 1.309781, Train accuracy: 1.000000, val accuracy: 0.000000\n",
      "Loss: 1.369390, Train accuracy: 1.000000, val accuracy: 0.000000\n",
      "Loss: 1.174232, Train accuracy: 1.000000, val accuracy: 0.000000\n",
      "Loss: 1.173103, Train accuracy: 1.000000, val accuracy: 0.000000\n",
      "Loss: 1.323319, Train accuracy: 1.000000, val accuracy: 0.066667\n",
      "Loss: 1.167392, Train accuracy: 1.000000, val accuracy: 0.000000\n",
      "Loss: 1.076201, Train accuracy: 1.000000, val accuracy: 0.066667\n",
      "Loss: 1.232961, Train accuracy: 1.000000, val accuracy: 0.000000\n",
      "Loss: 1.157558, Train accuracy: 1.000000, val accuracy: 0.000000\n",
      "Loss: 1.330180, Train accuracy: 1.000000, val accuracy: 0.066667\n",
      "Loss: 1.283642, Train accuracy: 1.000000, val accuracy: 0.000000\n",
      "Loss: 1.163123, Train accuracy: 1.000000, val accuracy: 0.000000\n",
      "Loss: 1.331565, Train accuracy: 1.000000, val accuracy: 0.000000\n",
      "Loss: 1.404167, Train accuracy: 1.000000, val accuracy: 0.000000\n",
      "Loss: 1.188150, Train accuracy: 1.000000, val accuracy: 0.000000\n",
      "Loss: 1.441295, Train accuracy: 1.000000, val accuracy: 0.066667\n",
      "Loss: 1.068600, Train accuracy: 1.000000, val accuracy: 0.000000\n",
      "Loss: 1.364755, Train accuracy: 1.000000, val accuracy: 0.000000\n",
      "Loss: 1.212599, Train accuracy: 1.000000, val accuracy: 0.000000\n",
      "Loss: 1.128207, Train accuracy: 1.000000, val accuracy: 0.066667\n",
      "Loss: 1.121540, Train accuracy: 1.000000, val accuracy: 0.000000\n",
      "Loss: 1.024118, Train accuracy: 1.000000, val accuracy: 0.066667\n",
      "Loss: 0.939308, Train accuracy: 1.000000, val accuracy: 0.000000\n",
      "Loss: 1.422518, Train accuracy: 1.000000, val accuracy: 0.000000\n"
     ]
    },
    {
     "name": "stdout",
     "output_type": "stream",
     "text": [
      "Loss: 1.381779, Train accuracy: 1.000000, val accuracy: 0.066667\n",
      "Loss: 1.321666, Train accuracy: 1.000000, val accuracy: 0.066667\n",
      "Loss: 1.138238, Train accuracy: 1.000000, val accuracy: 0.066667\n",
      "Loss: 1.135899, Train accuracy: 1.000000, val accuracy: 0.000000\n",
      "Loss: 1.166023, Train accuracy: 1.000000, val accuracy: 0.000000\n",
      "Loss: 1.297579, Train accuracy: 1.000000, val accuracy: 0.000000\n",
      "Loss: 1.133557, Train accuracy: 1.000000, val accuracy: 0.000000\n",
      "Loss: 1.212286, Train accuracy: 1.000000, val accuracy: 0.000000\n",
      "Loss: 1.282922, Train accuracy: 1.000000, val accuracy: 0.000000\n",
      "Loss: 1.026195, Train accuracy: 1.000000, val accuracy: 0.000000\n",
      "Loss: 1.237881, Train accuracy: 1.000000, val accuracy: 0.000000\n",
      "Loss: 1.280440, Train accuracy: 1.000000, val accuracy: 0.066667\n",
      "Loss: 1.126200, Train accuracy: 1.000000, val accuracy: 0.000000\n",
      "Loss: 1.263944, Train accuracy: 1.000000, val accuracy: 0.000000\n",
      "Loss: 1.136968, Train accuracy: 1.000000, val accuracy: 0.000000\n",
      "Loss: 1.371337, Train accuracy: 1.000000, val accuracy: 0.000000\n",
      "Loss: 1.229599, Train accuracy: 1.000000, val accuracy: 0.000000\n",
      "Loss: 1.242691, Train accuracy: 1.000000, val accuracy: 0.000000\n",
      "Loss: 1.263285, Train accuracy: 1.000000, val accuracy: 0.000000\n",
      "Loss: 1.274737, Train accuracy: 1.000000, val accuracy: 0.000000\n"
     ]
    }
   ],
   "source": [
    "data_size = 15\n",
    "model = TwoLayerNet(n_input = train_X.shape[1], n_output = 10, hidden_layer_size = 100, reg = 1e-1)\n",
    "dataset = Dataset(train_X[:data_size], train_y[:data_size], val_X[:data_size], val_y[:data_size])\n",
    "trainer = Trainer(model, dataset, SGD(), learning_rate=1e-1, num_epochs=150, batch_size=5)\n",
    "\n",
    "# You should expect this to reach 1.0 training accuracy \n",
    "loss_history, train_history, val_history = trainer.fit()"
   ]
  },
  {
   "cell_type": "markdown",
   "metadata": {},
   "source": [
    "Теперь найдем гипепараметры, для которых этот процесс сходится быстрее.\n",
    "Если все реализовано корректно, то существуют параметры, при которых процесс сходится в **20** эпох или еще быстрее.\n",
    "Найдите их!\n",
    "\n",
    "**Комментарий**: Перед тем как устроить перебор по всей сетке параметров, подберем на глаз: поставим Momentum, увеличим число нейронов в скрытом слое, поставим не такую большую регуляризацию. В случае успеха не придется делать перебор.\n",
    "\n",
    "UPD: Сработало."
   ]
  },
  {
   "cell_type": "code",
   "execution_count": 22,
   "metadata": {},
   "outputs": [
    {
     "name": "stdout",
     "output_type": "stream",
     "text": [
      "Loss: 2.303635, Train accuracy: 0.266667, val accuracy: 0.066667\n",
      "Loss: 2.293074, Train accuracy: 0.200000, val accuracy: 0.066667\n",
      "Loss: 2.265773, Train accuracy: 0.200000, val accuracy: 0.066667\n",
      "Loss: 2.208682, Train accuracy: 0.266667, val accuracy: 0.066667\n",
      "Loss: 2.037252, Train accuracy: 0.200000, val accuracy: 0.000000\n",
      "Loss: 1.885547, Train accuracy: 0.400000, val accuracy: 0.000000\n",
      "Loss: 1.887529, Train accuracy: 0.400000, val accuracy: 0.000000\n",
      "Loss: 2.115065, Train accuracy: 0.266667, val accuracy: 0.066667\n",
      "Loss: 1.874202, Train accuracy: 0.400000, val accuracy: 0.066667\n",
      "Loss: 1.605316, Train accuracy: 0.466667, val accuracy: 0.133333\n",
      "Loss: 1.537099, Train accuracy: 0.533333, val accuracy: 0.133333\n",
      "Loss: 1.184568, Train accuracy: 0.600000, val accuracy: 0.000000\n",
      "Loss: 0.842651, Train accuracy: 0.600000, val accuracy: 0.000000\n",
      "Loss: 0.958606, Train accuracy: 0.800000, val accuracy: 0.000000\n",
      "Loss: 0.295460, Train accuracy: 0.800000, val accuracy: 0.066667\n",
      "Loss: 0.699491, Train accuracy: 0.800000, val accuracy: 0.066667\n",
      "Loss: 0.606351, Train accuracy: 0.933333, val accuracy: 0.066667\n",
      "Loss: 0.008545, Train accuracy: 0.933333, val accuracy: 0.000000\n",
      "Loss: 0.001062, Train accuracy: 1.000000, val accuracy: 0.000000\n",
      "Loss: 0.218953, Train accuracy: 1.000000, val accuracy: 0.000000\n"
     ]
    }
   ],
   "source": [
    "# Now, tweak some hyper parameters and make it train to 1.0 accuracy in 20 epochs or less\n",
    "\n",
    "model = TwoLayerNet(n_input = train_X.shape[1], n_output = 10, hidden_layer_size = 300, reg = 1e-5)\n",
    "dataset = Dataset(train_X[:data_size], train_y[:data_size], val_X[:data_size], val_y[:data_size])\n",
    "# TODO: Change any hyperparamers or optimizators to reach training accuracy in 20 epochs\n",
    "trainer = Trainer(model, dataset, MomentumSGD(), learning_rate=1e-1, num_epochs=20, batch_size=10)\n",
    "\n",
    "loss_history, train_history, val_history = trainer.fit()"
   ]
  },
  {
   "cell_type": "markdown",
   "metadata": {},
   "source": [
    "# Итак, основное мероприятие!\n",
    "\n",
    "Натренируйте лучшую нейросеть! Можно добавлять и изменять параметры, менять количество нейронов в слоях сети и как угодно экспериментировать. \n",
    "\n",
    "Добейтесь точности лучше **60%** на validation set."
   ]
  },
  {
   "cell_type": "code",
   "execution_count": 15,
   "metadata": {
    "scrolled": true
   },
   "outputs": [
    {
     "name": "stdout",
     "output_type": "stream",
     "text": [
      "Loss: 2.231223, Train accuracy: 0.334889, val accuracy: 0.336000\n",
      "Loss: 2.242964, Train accuracy: 0.435111, val accuracy: 0.452000\n",
      "Loss: 1.741416, Train accuracy: 0.609333, val accuracy: 0.592000\n",
      "Loss: 1.532193, Train accuracy: 0.622000, val accuracy: 0.586000\n",
      "Loss: 1.458880, Train accuracy: 0.641556, val accuracy: 0.608000\n",
      "Loss: 1.512123, Train accuracy: 0.662000, val accuracy: 0.623000\n",
      "Loss: 1.611035, Train accuracy: 0.625222, val accuracy: 0.615000\n",
      "Loss: 1.564311, Train accuracy: 0.630667, val accuracy: 0.589000\n",
      "Loss: 1.360436, Train accuracy: 0.618778, val accuracy: 0.589000\n",
      "Loss: 1.324650, Train accuracy: 0.624333, val accuracy: 0.582000\n",
      "Loss: 1.408848, Train accuracy: 0.636778, val accuracy: 0.595000\n",
      "Loss: 1.657688, Train accuracy: 0.666333, val accuracy: 0.633000\n",
      "Loss: 1.259272, Train accuracy: 0.662222, val accuracy: 0.627000\n",
      "Loss: 1.824181, Train accuracy: 0.659667, val accuracy: 0.612000\n",
      "Loss: 1.327270, Train accuracy: 0.676667, val accuracy: 0.634000\n",
      "Loss: 1.663748, Train accuracy: 0.671667, val accuracy: 0.648000\n",
      "Loss: 2.283421, Train accuracy: 0.196778, val accuracy: 0.206000\n",
      "Loss: 1.760609, Train accuracy: 0.409778, val accuracy: 0.405000\n",
      "Loss: 1.306161, Train accuracy: 0.538000, val accuracy: 0.529000\n",
      "Loss: 1.315899, Train accuracy: 0.592333, val accuracy: 0.582000\n",
      "Loss: 1.219416, Train accuracy: 0.631778, val accuracy: 0.633000\n",
      "Loss: 0.993193, Train accuracy: 0.667556, val accuracy: 0.641000\n",
      "Loss: 1.864158, Train accuracy: 0.682222, val accuracy: 0.650000\n",
      "Loss: 1.133171, Train accuracy: 0.670333, val accuracy: 0.642000\n",
      "Loss: 1.493355, Train accuracy: 0.692889, val accuracy: 0.652000\n",
      "Loss: 1.225825, Train accuracy: 0.721333, val accuracy: 0.676000\n",
      "Loss: 1.105109, Train accuracy: 0.707889, val accuracy: 0.658000\n",
      "Loss: 0.992856, Train accuracy: 0.717111, val accuracy: 0.675000\n",
      "Loss: 1.204162, Train accuracy: 0.719111, val accuracy: 0.663000\n",
      "Loss: 1.144025, Train accuracy: 0.711556, val accuracy: 0.672000\n",
      "Loss: 1.297845, Train accuracy: 0.725778, val accuracy: 0.669000\n",
      "Loss: 1.704538, Train accuracy: 0.737889, val accuracy: 0.681000\n",
      "Loss: 1.922151, Train accuracy: 0.348333, val accuracy: 0.343000\n",
      "Loss: 1.557404, Train accuracy: 0.458444, val accuracy: 0.446000\n",
      "Loss: 1.252670, Train accuracy: 0.587778, val accuracy: 0.586000\n",
      "Loss: 1.617368, Train accuracy: 0.596556, val accuracy: 0.557000\n",
      "Loss: 1.342606, Train accuracy: 0.636222, val accuracy: 0.608000\n",
      "Loss: 1.991553, Train accuracy: 0.618778, val accuracy: 0.576000\n",
      "Loss: 1.371547, Train accuracy: 0.685333, val accuracy: 0.635000\n",
      "Loss: 1.656831, Train accuracy: 0.650333, val accuracy: 0.597000\n",
      "Loss: 1.179999, Train accuracy: 0.654333, val accuracy: 0.621000\n",
      "Loss: 1.730324, Train accuracy: 0.669000, val accuracy: 0.640000\n",
      "Loss: 1.365550, Train accuracy: 0.683778, val accuracy: 0.653000\n",
      "Loss: 1.704351, Train accuracy: 0.684778, val accuracy: 0.644000\n",
      "Loss: 1.605527, Train accuracy: 0.688333, val accuracy: 0.664000\n",
      "Loss: 1.367563, Train accuracy: 0.665667, val accuracy: 0.612000\n",
      "Loss: 1.313000, Train accuracy: 0.688556, val accuracy: 0.632000\n",
      "Loss: 1.315796, Train accuracy: 0.665444, val accuracy: 0.614000\n",
      "Loss: 2.296437, Train accuracy: 0.196667, val accuracy: 0.206000\n",
      "Loss: 1.664097, Train accuracy: 0.422111, val accuracy: 0.429000\n",
      "Loss: 1.558539, Train accuracy: 0.575111, val accuracy: 0.557000\n",
      "Loss: 1.436170, Train accuracy: 0.634444, val accuracy: 0.627000\n",
      "Loss: 1.731204, Train accuracy: 0.649667, val accuracy: 0.641000\n",
      "Loss: 1.402705, Train accuracy: 0.698556, val accuracy: 0.680000\n",
      "Loss: 0.935433, Train accuracy: 0.678000, val accuracy: 0.657000\n",
      "Loss: 1.127585, Train accuracy: 0.721556, val accuracy: 0.685000\n",
      "Loss: 0.995524, Train accuracy: 0.714889, val accuracy: 0.681000\n",
      "Loss: 0.950983, Train accuracy: 0.697889, val accuracy: 0.672000\n",
      "Loss: 1.198121, Train accuracy: 0.757000, val accuracy: 0.688000\n",
      "Loss: 1.210466, Train accuracy: 0.707778, val accuracy: 0.663000\n",
      "Loss: 1.046510, Train accuracy: 0.746889, val accuracy: 0.698000\n",
      "Loss: 1.568973, Train accuracy: 0.742444, val accuracy: 0.684000\n",
      "Loss: 1.086615, Train accuracy: 0.713444, val accuracy: 0.637000\n",
      "Loss: 1.557350, Train accuracy: 0.751556, val accuracy: 0.688000\n",
      "Loss: 1.832009, Train accuracy: 0.404111, val accuracy: 0.402000\n",
      "Loss: 2.173249, Train accuracy: 0.539111, val accuracy: 0.563000\n",
      "Loss: 1.690513, Train accuracy: 0.568889, val accuracy: 0.533000\n",
      "Loss: 1.151423, Train accuracy: 0.600222, val accuracy: 0.577000\n",
      "Loss: 1.435660, Train accuracy: 0.617222, val accuracy: 0.613000\n",
      "Loss: 1.795149, Train accuracy: 0.650778, val accuracy: 0.608000\n",
      "Loss: 1.641104, Train accuracy: 0.642667, val accuracy: 0.618000\n",
      "Loss: 1.656744, Train accuracy: 0.644222, val accuracy: 0.612000\n",
      "Loss: 1.656683, Train accuracy: 0.641889, val accuracy: 0.626000\n",
      "Loss: 1.376326, Train accuracy: 0.669333, val accuracy: 0.634000\n",
      "Loss: 1.745577, Train accuracy: 0.661444, val accuracy: 0.603000\n",
      "Loss: 1.385157, Train accuracy: 0.669000, val accuracy: 0.614000\n",
      "Loss: 1.590361, Train accuracy: 0.654889, val accuracy: 0.622000\n",
      "Loss: 1.484689, Train accuracy: 0.685444, val accuracy: 0.620000\n",
      "Loss: 1.469148, Train accuracy: 0.639778, val accuracy: 0.584000\n",
      "Loss: 1.452993, Train accuracy: 0.655889, val accuracy: 0.592000\n",
      "Loss: 1.980836, Train accuracy: 0.196667, val accuracy: 0.206000\n",
      "Loss: 1.665672, Train accuracy: 0.443222, val accuracy: 0.438000\n",
      "Loss: 1.371885, Train accuracy: 0.542111, val accuracy: 0.518000\n",
      "Loss: 1.338698, Train accuracy: 0.646222, val accuracy: 0.645000\n",
      "Loss: 1.179652, Train accuracy: 0.625222, val accuracy: 0.592000\n",
      "Loss: 1.170412, Train accuracy: 0.677000, val accuracy: 0.670000\n",
      "Loss: 1.426265, Train accuracy: 0.690444, val accuracy: 0.652000\n",
      "Loss: 1.383362, Train accuracy: 0.687222, val accuracy: 0.640000\n",
      "Loss: 0.796537, Train accuracy: 0.710778, val accuracy: 0.666000\n",
      "Loss: 1.392880, Train accuracy: 0.710889, val accuracy: 0.674000\n",
      "Loss: 1.321653, Train accuracy: 0.680778, val accuracy: 0.618000\n",
      "Loss: 1.152690, Train accuracy: 0.748111, val accuracy: 0.690000\n",
      "Loss: 1.071124, Train accuracy: 0.767000, val accuracy: 0.699000\n",
      "Loss: 1.076809, Train accuracy: 0.771556, val accuracy: 0.697000\n",
      "Loss: 1.337327, Train accuracy: 0.736000, val accuracy: 0.660000\n",
      "Loss: 1.060399, Train accuracy: 0.762889, val accuracy: 0.692000\n",
      "Loss: 1.699185, Train accuracy: 0.359222, val accuracy: 0.372000\n",
      "Loss: 1.548246, Train accuracy: 0.573111, val accuracy: 0.583000\n",
      "Loss: 1.701252, Train accuracy: 0.598667, val accuracy: 0.578000\n",
      "Loss: 1.215942, Train accuracy: 0.618222, val accuracy: 0.604000\n",
      "Loss: 1.336984, Train accuracy: 0.608778, val accuracy: 0.586000\n",
      "Loss: 1.382726, Train accuracy: 0.632333, val accuracy: 0.622000\n",
      "Loss: 1.172618, Train accuracy: 0.673778, val accuracy: 0.638000\n",
      "Loss: 1.143001, Train accuracy: 0.697667, val accuracy: 0.643000\n",
      "Loss: 1.191780, Train accuracy: 0.688778, val accuracy: 0.621000\n",
      "Loss: 1.160092, Train accuracy: 0.722333, val accuracy: 0.636000\n",
      "Loss: 1.172641, Train accuracy: 0.729667, val accuracy: 0.648000\n",
      "Loss: 1.624410, Train accuracy: 0.729333, val accuracy: 0.654000\n",
      "Loss: 0.736973, Train accuracy: 0.743667, val accuracy: 0.660000\n",
      "Loss: 1.136735, Train accuracy: 0.749222, val accuracy: 0.666000\n",
      "Loss: 1.289311, Train accuracy: 0.755000, val accuracy: 0.663000\n",
      "Loss: 0.757627, Train accuracy: 0.753667, val accuracy: 0.670000\n",
      "Loss: 2.046962, Train accuracy: 0.196667, val accuracy: 0.206000\n",
      "Loss: 1.990593, Train accuracy: 0.380778, val accuracy: 0.378000\n",
      "Loss: 1.610232, Train accuracy: 0.529444, val accuracy: 0.532000\n",
      "Loss: 1.244238, Train accuracy: 0.619556, val accuracy: 0.613000\n",
      "Loss: 1.233372, Train accuracy: 0.657000, val accuracy: 0.640000\n",
      "Loss: 1.145386, Train accuracy: 0.683333, val accuracy: 0.640000\n",
      "Loss: 0.831342, Train accuracy: 0.687556, val accuracy: 0.629000\n",
      "Loss: 1.805183, Train accuracy: 0.721889, val accuracy: 0.688000\n",
      "Loss: 0.917851, Train accuracy: 0.723667, val accuracy: 0.675000\n",
      "Loss: 1.092379, Train accuracy: 0.732778, val accuracy: 0.673000\n",
      "Loss: 0.564182, Train accuracy: 0.778778, val accuracy: 0.689000\n",
      "Loss: 0.839087, Train accuracy: 0.747889, val accuracy: 0.675000\n",
      "Loss: 0.524013, Train accuracy: 0.761333, val accuracy: 0.704000\n",
      "Loss: 1.078141, Train accuracy: 0.759778, val accuracy: 0.679000\n",
      "Loss: 0.442025, Train accuracy: 0.781889, val accuracy: 0.695000\n"
     ]
    },
    {
     "name": "stdout",
     "output_type": "stream",
     "text": [
      "Loss: 0.636031, Train accuracy: 0.787889, val accuracy: 0.682000\n",
      "Loss: 1.897811, Train accuracy: 0.338778, val accuracy: 0.350000\n",
      "Loss: 1.567589, Train accuracy: 0.585444, val accuracy: 0.571000\n",
      "Loss: 0.926535, Train accuracy: 0.620556, val accuracy: 0.614000\n",
      "Loss: 1.220348, Train accuracy: 0.591000, val accuracy: 0.552000\n",
      "Loss: 1.280089, Train accuracy: 0.657667, val accuracy: 0.625000\n",
      "Loss: 1.040229, Train accuracy: 0.672667, val accuracy: 0.636000\n",
      "Loss: 1.293408, Train accuracy: 0.688222, val accuracy: 0.635000\n",
      "Loss: 1.270849, Train accuracy: 0.726889, val accuracy: 0.672000\n",
      "Loss: 1.062738, Train accuracy: 0.716556, val accuracy: 0.636000\n",
      "Loss: 0.886852, Train accuracy: 0.739889, val accuracy: 0.671000\n",
      "Loss: 0.536044, Train accuracy: 0.704222, val accuracy: 0.631000\n",
      "Loss: 0.743393, Train accuracy: 0.722111, val accuracy: 0.659000\n",
      "Loss: 0.880421, Train accuracy: 0.736889, val accuracy: 0.648000\n",
      "Loss: 1.609742, Train accuracy: 0.723667, val accuracy: 0.638000\n",
      "Loss: 1.305231, Train accuracy: 0.752111, val accuracy: 0.643000\n",
      "Loss: 0.969906, Train accuracy: 0.758333, val accuracy: 0.634000\n",
      "Loss: 2.201302, Train accuracy: 0.196667, val accuracy: 0.206000\n",
      "Loss: 1.850740, Train accuracy: 0.425556, val accuracy: 0.431000\n",
      "Loss: 1.296964, Train accuracy: 0.555333, val accuracy: 0.543000\n",
      "Loss: 1.229860, Train accuracy: 0.615111, val accuracy: 0.615000\n",
      "Loss: 0.937830, Train accuracy: 0.677111, val accuracy: 0.643000\n",
      "Loss: 1.100051, Train accuracy: 0.689000, val accuracy: 0.657000\n",
      "Loss: 1.467758, Train accuracy: 0.672333, val accuracy: 0.650000\n",
      "Loss: 0.691331, Train accuracy: 0.714667, val accuracy: 0.660000\n",
      "Loss: 0.685740, Train accuracy: 0.730111, val accuracy: 0.664000\n",
      "Loss: 0.596655, Train accuracy: 0.739667, val accuracy: 0.673000\n",
      "Loss: 0.624415, Train accuracy: 0.788889, val accuracy: 0.716000\n",
      "Loss: 0.583265, Train accuracy: 0.773000, val accuracy: 0.682000\n",
      "Loss: 0.915691, Train accuracy: 0.792778, val accuracy: 0.694000\n",
      "Loss: 0.915316, Train accuracy: 0.818000, val accuracy: 0.713000\n",
      "Loss: 0.612492, Train accuracy: 0.801222, val accuracy: 0.691000\n",
      "Loss: 1.036738, Train accuracy: 0.796000, val accuracy: 0.702000\n",
      "Loss: 1.694902, Train accuracy: 0.343889, val accuracy: 0.349000\n",
      "Loss: 1.358491, Train accuracy: 0.578778, val accuracy: 0.578000\n",
      "Loss: 1.458192, Train accuracy: 0.628667, val accuracy: 0.616000\n",
      "Loss: 1.574846, Train accuracy: 0.589889, val accuracy: 0.566000\n",
      "Loss: 1.257553, Train accuracy: 0.635889, val accuracy: 0.608000\n",
      "Loss: 1.219898, Train accuracy: 0.674000, val accuracy: 0.635000\n",
      "Loss: 1.222497, Train accuracy: 0.702556, val accuracy: 0.639000\n",
      "Loss: 1.221695, Train accuracy: 0.685000, val accuracy: 0.631000\n",
      "Loss: 2.016240, Train accuracy: 0.714222, val accuracy: 0.636000\n",
      "Loss: 0.614362, Train accuracy: 0.759333, val accuracy: 0.686000\n",
      "Loss: 0.940530, Train accuracy: 0.747667, val accuracy: 0.687000\n",
      "Loss: 0.736463, Train accuracy: 0.739000, val accuracy: 0.667000\n",
      "Loss: 1.575207, Train accuracy: 0.766889, val accuracy: 0.673000\n",
      "Loss: 1.016397, Train accuracy: 0.739333, val accuracy: 0.646000\n",
      "Loss: 0.743590, Train accuracy: 0.766222, val accuracy: 0.686000\n",
      "Loss: 0.987756, Train accuracy: 0.774778, val accuracy: 0.665000\n",
      "Loss: 2.334008, Train accuracy: 0.240222, val accuracy: 0.242000\n",
      "Loss: 1.594532, Train accuracy: 0.428222, val accuracy: 0.410000\n",
      "Loss: 1.272354, Train accuracy: 0.569889, val accuracy: 0.555000\n",
      "Loss: 1.218466, Train accuracy: 0.647778, val accuracy: 0.598000\n",
      "Loss: 0.879753, Train accuracy: 0.682778, val accuracy: 0.648000\n",
      "Loss: 1.170467, Train accuracy: 0.710111, val accuracy: 0.668000\n",
      "Loss: 1.234797, Train accuracy: 0.678556, val accuracy: 0.644000\n",
      "Loss: 0.954545, Train accuracy: 0.751000, val accuracy: 0.679000\n",
      "Loss: 0.750597, Train accuracy: 0.757000, val accuracy: 0.675000\n",
      "Loss: 0.582269, Train accuracy: 0.762889, val accuracy: 0.678000\n",
      "Loss: 1.052509, Train accuracy: 0.774333, val accuracy: 0.690000\n",
      "Loss: 0.704638, Train accuracy: 0.805889, val accuracy: 0.719000\n",
      "Loss: 1.064078, Train accuracy: 0.809556, val accuracy: 0.712000\n",
      "Loss: 1.590260, Train accuracy: 0.808667, val accuracy: 0.714000\n",
      "Loss: 0.510700, Train accuracy: 0.817556, val accuracy: 0.729000\n",
      "Loss: 0.352842, Train accuracy: 0.806556, val accuracy: 0.702000\n",
      "Loss: 2.250804, Train accuracy: 0.196667, val accuracy: 0.206000\n",
      "Loss: 2.206662, Train accuracy: 0.196667, val accuracy: 0.206000\n",
      "Loss: 2.179783, Train accuracy: 0.196667, val accuracy: 0.206000\n",
      "Loss: 2.197709, Train accuracy: 0.243667, val accuracy: 0.240000\n",
      "Loss: 1.904460, Train accuracy: 0.276889, val accuracy: 0.284000\n",
      "Loss: 1.665545, Train accuracy: 0.379556, val accuracy: 0.382000\n",
      "Loss: 1.475194, Train accuracy: 0.448778, val accuracy: 0.447000\n",
      "Loss: 1.735474, Train accuracy: 0.501556, val accuracy: 0.489000\n",
      "Loss: 1.534676, Train accuracy: 0.553000, val accuracy: 0.556000\n",
      "Loss: 1.503627, Train accuracy: 0.601889, val accuracy: 0.590000\n",
      "Loss: 1.363507, Train accuracy: 0.615889, val accuracy: 0.618000\n",
      "Loss: 1.489341, Train accuracy: 0.644778, val accuracy: 0.625000\n",
      "Loss: 1.313010, Train accuracy: 0.657667, val accuracy: 0.646000\n",
      "Loss: 1.221449, Train accuracy: 0.658333, val accuracy: 0.653000\n",
      "Loss: 1.024846, Train accuracy: 0.702000, val accuracy: 0.688000\n",
      "Loss: 1.175960, Train accuracy: 0.690000, val accuracy: 0.659000\n",
      "Loss: 2.257133, Train accuracy: 0.196667, val accuracy: 0.206000\n",
      "Loss: 2.236554, Train accuracy: 0.196667, val accuracy: 0.206000\n",
      "Loss: 2.233849, Train accuracy: 0.196667, val accuracy: 0.206000\n",
      "Loss: 2.258963, Train accuracy: 0.196667, val accuracy: 0.206000\n",
      "Loss: 2.213942, Train accuracy: 0.196667, val accuracy: 0.206000\n",
      "Loss: 2.426916, Train accuracy: 0.196667, val accuracy: 0.206000\n",
      "Loss: 2.146945, Train accuracy: 0.212778, val accuracy: 0.220000\n",
      "Loss: 2.147654, Train accuracy: 0.254222, val accuracy: 0.256000\n",
      "Loss: 2.249473, Train accuracy: 0.275556, val accuracy: 0.279000\n",
      "Loss: 2.003087, Train accuracy: 0.291222, val accuracy: 0.292000\n",
      "Loss: 1.687425, Train accuracy: 0.337444, val accuracy: 0.341000\n",
      "Loss: 1.897194, Train accuracy: 0.389889, val accuracy: 0.381000\n",
      "Loss: 1.578410, Train accuracy: 0.421889, val accuracy: 0.416000\n",
      "Loss: 1.476914, Train accuracy: 0.455889, val accuracy: 0.437000\n",
      "Loss: 1.757992, Train accuracy: 0.495000, val accuracy: 0.492000\n",
      "Loss: 1.616416, Train accuracy: 0.515778, val accuracy: 0.501000\n",
      "Loss: 2.201980, Train accuracy: 0.196667, val accuracy: 0.206000\n",
      "Loss: 2.203694, Train accuracy: 0.196667, val accuracy: 0.206000\n",
      "Loss: 2.179481, Train accuracy: 0.196667, val accuracy: 0.206000\n",
      "Loss: 1.974707, Train accuracy: 0.260556, val accuracy: 0.261000\n",
      "Loss: 1.933018, Train accuracy: 0.292889, val accuracy: 0.294000\n",
      "Loss: 1.794871, Train accuracy: 0.396889, val accuracy: 0.381000\n",
      "Loss: 1.715766, Train accuracy: 0.435444, val accuracy: 0.434000\n",
      "Loss: 1.505211, Train accuracy: 0.524889, val accuracy: 0.523000\n",
      "Loss: 1.630813, Train accuracy: 0.583556, val accuracy: 0.572000\n",
      "Loss: 1.229226, Train accuracy: 0.619444, val accuracy: 0.594000\n",
      "Loss: 1.231340, Train accuracy: 0.634000, val accuracy: 0.619000\n",
      "Loss: 1.208743, Train accuracy: 0.653333, val accuracy: 0.640000\n",
      "Loss: 1.478872, Train accuracy: 0.680778, val accuracy: 0.670000\n",
      "Loss: 1.155015, Train accuracy: 0.703556, val accuracy: 0.684000\n",
      "Loss: 1.081832, Train accuracy: 0.708778, val accuracy: 0.692000\n",
      "Loss: 1.150487, Train accuracy: 0.722556, val accuracy: 0.698000\n",
      "Loss: 2.222381, Train accuracy: 0.196667, val accuracy: 0.206000\n",
      "Loss: 2.200185, Train accuracy: 0.196667, val accuracy: 0.206000\n",
      "Loss: 2.170118, Train accuracy: 0.196667, val accuracy: 0.206000\n",
      "Loss: 2.258399, Train accuracy: 0.196667, val accuracy: 0.206000\n",
      "Loss: 2.311373, Train accuracy: 0.196667, val accuracy: 0.206000\n",
      "Loss: 2.179386, Train accuracy: 0.196667, val accuracy: 0.206000\n",
      "Loss: 2.154034, Train accuracy: 0.229111, val accuracy: 0.237000\n",
      "Loss: 2.023945, Train accuracy: 0.268889, val accuracy: 0.269000\n",
      "Loss: 1.848982, Train accuracy: 0.279556, val accuracy: 0.281000\n",
      "Loss: 2.077729, Train accuracy: 0.304778, val accuracy: 0.309000\n",
      "Loss: 1.701369, Train accuracy: 0.361333, val accuracy: 0.358000\n",
      "Loss: 1.659200, Train accuracy: 0.404444, val accuracy: 0.396000\n",
      "Loss: 1.727298, Train accuracy: 0.443889, val accuracy: 0.437000\n",
      "Loss: 1.601718, Train accuracy: 0.481556, val accuracy: 0.475000\n"
     ]
    },
    {
     "name": "stdout",
     "output_type": "stream",
     "text": [
      "Loss: 1.603230, Train accuracy: 0.510556, val accuracy: 0.512000\n",
      "Loss: 1.530712, Train accuracy: 0.546222, val accuracy: 0.546000\n",
      "Loss: 2.268336, Train accuracy: 0.196667, val accuracy: 0.206000\n",
      "Loss: 2.238269, Train accuracy: 0.196667, val accuracy: 0.206000\n",
      "Loss: 2.195728, Train accuracy: 0.204667, val accuracy: 0.218000\n",
      "Loss: 2.073342, Train accuracy: 0.274556, val accuracy: 0.280000\n",
      "Loss: 1.836626, Train accuracy: 0.347000, val accuracy: 0.352000\n",
      "Loss: 1.823415, Train accuracy: 0.437111, val accuracy: 0.429000\n",
      "Loss: 1.508246, Train accuracy: 0.482222, val accuracy: 0.487000\n",
      "Loss: 1.198392, Train accuracy: 0.566778, val accuracy: 0.558000\n",
      "Loss: 1.529996, Train accuracy: 0.605222, val accuracy: 0.599000\n",
      "Loss: 1.391205, Train accuracy: 0.645556, val accuracy: 0.628000\n",
      "Loss: 1.170167, Train accuracy: 0.669222, val accuracy: 0.663000\n",
      "Loss: 1.327962, Train accuracy: 0.685556, val accuracy: 0.673000\n",
      "Loss: 1.161697, Train accuracy: 0.702889, val accuracy: 0.684000\n",
      "Loss: 1.012636, Train accuracy: 0.713000, val accuracy: 0.690000\n",
      "Loss: 1.352057, Train accuracy: 0.716000, val accuracy: 0.687000\n",
      "Loss: 0.960522, Train accuracy: 0.730222, val accuracy: 0.711000\n",
      "Loss: 2.269456, Train accuracy: 0.196667, val accuracy: 0.206000\n",
      "Loss: 2.363432, Train accuracy: 0.196667, val accuracy: 0.206000\n",
      "Loss: 2.258204, Train accuracy: 0.196667, val accuracy: 0.206000\n",
      "Loss: 2.109031, Train accuracy: 0.196667, val accuracy: 0.206000\n",
      "Loss: 2.225565, Train accuracy: 0.196667, val accuracy: 0.206000\n",
      "Loss: 2.187745, Train accuracy: 0.214111, val accuracy: 0.220000\n",
      "Loss: 2.047137, Train accuracy: 0.248667, val accuracy: 0.252000\n",
      "Loss: 1.982779, Train accuracy: 0.276444, val accuracy: 0.276000\n",
      "Loss: 2.037214, Train accuracy: 0.308333, val accuracy: 0.318000\n",
      "Loss: 2.101009, Train accuracy: 0.360444, val accuracy: 0.364000\n",
      "Loss: 1.732271, Train accuracy: 0.406667, val accuracy: 0.394000\n",
      "Loss: 1.853857, Train accuracy: 0.452000, val accuracy: 0.443000\n",
      "Loss: 1.633260, Train accuracy: 0.482222, val accuracy: 0.469000\n",
      "Loss: 1.590316, Train accuracy: 0.521667, val accuracy: 0.512000\n",
      "Loss: 1.497183, Train accuracy: 0.557667, val accuracy: 0.554000\n",
      "Loss: 1.303262, Train accuracy: 0.589000, val accuracy: 0.567000\n",
      "Loss: 2.289981, Train accuracy: 0.196667, val accuracy: 0.206000\n",
      "Loss: 2.237997, Train accuracy: 0.196667, val accuracy: 0.206000\n",
      "Loss: 2.292662, Train accuracy: 0.196667, val accuracy: 0.206000\n",
      "Loss: 2.182723, Train accuracy: 0.253333, val accuracy: 0.256000\n",
      "Loss: 1.877402, Train accuracy: 0.295111, val accuracy: 0.298000\n",
      "Loss: 1.852309, Train accuracy: 0.394333, val accuracy: 0.382000\n",
      "Loss: 1.754416, Train accuracy: 0.462111, val accuracy: 0.463000\n",
      "Loss: 1.723648, Train accuracy: 0.527444, val accuracy: 0.523000\n",
      "Loss: 1.109559, Train accuracy: 0.584667, val accuracy: 0.573000\n",
      "Loss: 1.179559, Train accuracy: 0.618778, val accuracy: 0.604000\n",
      "Loss: 1.131507, Train accuracy: 0.641889, val accuracy: 0.632000\n",
      "Loss: 1.031206, Train accuracy: 0.654889, val accuracy: 0.642000\n",
      "Loss: 0.997610, Train accuracy: 0.686778, val accuracy: 0.659000\n",
      "Loss: 0.895829, Train accuracy: 0.701222, val accuracy: 0.678000\n",
      "Loss: 0.907106, Train accuracy: 0.705778, val accuracy: 0.686000\n",
      "Loss: 0.933622, Train accuracy: 0.723333, val accuracy: 0.690000\n",
      "Loss: 2.289840, Train accuracy: 0.196667, val accuracy: 0.206000\n",
      "Loss: 2.279692, Train accuracy: 0.196667, val accuracy: 0.206000\n",
      "Loss: 2.185780, Train accuracy: 0.196667, val accuracy: 0.206000\n",
      "Loss: 2.223254, Train accuracy: 0.196667, val accuracy: 0.206000\n",
      "Loss: 2.151472, Train accuracy: 0.196667, val accuracy: 0.206000\n",
      "Loss: 2.135714, Train accuracy: 0.196667, val accuracy: 0.206000\n",
      "Loss: 2.202175, Train accuracy: 0.216556, val accuracy: 0.222000\n",
      "Loss: 2.147958, Train accuracy: 0.262556, val accuracy: 0.258000\n",
      "Loss: 1.954104, Train accuracy: 0.275000, val accuracy: 0.275000\n",
      "Loss: 2.056237, Train accuracy: 0.298000, val accuracy: 0.305000\n",
      "Loss: 1.789824, Train accuracy: 0.355778, val accuracy: 0.354000\n",
      "Loss: 1.715691, Train accuracy: 0.399000, val accuracy: 0.395000\n",
      "Loss: 1.725871, Train accuracy: 0.442000, val accuracy: 0.442000\n",
      "Loss: 1.753031, Train accuracy: 0.475000, val accuracy: 0.463000\n",
      "Loss: 1.605542, Train accuracy: 0.518889, val accuracy: 0.508000\n",
      "Loss: 1.271716, Train accuracy: 0.551556, val accuracy: 0.543000\n",
      "Loss: 2.239425, Train accuracy: 0.196667, val accuracy: 0.206000\n",
      "Loss: 2.121674, Train accuracy: 0.196667, val accuracy: 0.206000\n",
      "Loss: 2.058855, Train accuracy: 0.196667, val accuracy: 0.206000\n",
      "Loss: 2.135678, Train accuracy: 0.266556, val accuracy: 0.264000\n",
      "Loss: 1.684070, Train accuracy: 0.330111, val accuracy: 0.339000\n",
      "Loss: 1.756106, Train accuracy: 0.414667, val accuracy: 0.417000\n",
      "Loss: 1.350325, Train accuracy: 0.493889, val accuracy: 0.504000\n",
      "Loss: 1.336326, Train accuracy: 0.556889, val accuracy: 0.561000\n",
      "Loss: 0.977574, Train accuracy: 0.599000, val accuracy: 0.580000\n",
      "Loss: 1.265377, Train accuracy: 0.630667, val accuracy: 0.628000\n",
      "Loss: 0.955603, Train accuracy: 0.660444, val accuracy: 0.662000\n",
      "Loss: 1.251498, Train accuracy: 0.688444, val accuracy: 0.677000\n",
      "Loss: 0.789828, Train accuracy: 0.695889, val accuracy: 0.669000\n",
      "Loss: 0.939623, Train accuracy: 0.715333, val accuracy: 0.680000\n",
      "Loss: 0.848039, Train accuracy: 0.714444, val accuracy: 0.697000\n",
      "Loss: 0.959931, Train accuracy: 0.743778, val accuracy: 0.708000\n",
      "Loss: 2.237848, Train accuracy: 0.196667, val accuracy: 0.206000\n",
      "Loss: 2.221048, Train accuracy: 0.196667, val accuracy: 0.206000\n",
      "Loss: 2.187391, Train accuracy: 0.196667, val accuracy: 0.206000\n",
      "Loss: 2.198037, Train accuracy: 0.196667, val accuracy: 0.206000\n",
      "Loss: 2.127053, Train accuracy: 0.196667, val accuracy: 0.206000\n",
      "Loss: 2.142352, Train accuracy: 0.199000, val accuracy: 0.209000\n",
      "Loss: 2.040921, Train accuracy: 0.234667, val accuracy: 0.240000\n",
      "Loss: 2.126854, Train accuracy: 0.265444, val accuracy: 0.263000\n",
      "Loss: 1.995297, Train accuracy: 0.278000, val accuracy: 0.278000\n",
      "Loss: 2.022068, Train accuracy: 0.305778, val accuracy: 0.321000\n",
      "Loss: 1.676617, Train accuracy: 0.354222, val accuracy: 0.355000\n",
      "Loss: 1.763107, Train accuracy: 0.401222, val accuracy: 0.398000\n",
      "Loss: 1.338911, Train accuracy: 0.423222, val accuracy: 0.424000\n",
      "Loss: 1.470573, Train accuracy: 0.461667, val accuracy: 0.460000\n",
      "Loss: 1.721440, Train accuracy: 0.501111, val accuracy: 0.497000\n",
      "Loss: 1.505906, Train accuracy: 0.541222, val accuracy: 0.529000\n",
      "Loss: 2.220864, Train accuracy: 0.196667, val accuracy: 0.206000\n",
      "Loss: 2.169987, Train accuracy: 0.196667, val accuracy: 0.206000\n",
      "Loss: 2.102340, Train accuracy: 0.215556, val accuracy: 0.221000\n",
      "Loss: 2.003781, Train accuracy: 0.277889, val accuracy: 0.285000\n",
      "Loss: 1.866454, Train accuracy: 0.367333, val accuracy: 0.356000\n",
      "Loss: 1.666138, Train accuracy: 0.468111, val accuracy: 0.454000\n",
      "Loss: 1.511352, Train accuracy: 0.536000, val accuracy: 0.524000\n",
      "Loss: 1.213135, Train accuracy: 0.578778, val accuracy: 0.566000\n",
      "Loss: 1.449247, Train accuracy: 0.602333, val accuracy: 0.585000\n",
      "Loss: 1.025749, Train accuracy: 0.650778, val accuracy: 0.634000\n",
      "Loss: 1.103906, Train accuracy: 0.679778, val accuracy: 0.665000\n",
      "Loss: 1.270968, Train accuracy: 0.695222, val accuracy: 0.673000\n",
      "Loss: 0.804730, Train accuracy: 0.710889, val accuracy: 0.683000\n",
      "Loss: 0.731304, Train accuracy: 0.711111, val accuracy: 0.685000\n",
      "Loss: 1.223538, Train accuracy: 0.737444, val accuracy: 0.709000\n",
      "Loss: 1.192599, Train accuracy: 0.745444, val accuracy: 0.699000\n",
      "Loss: 2.269379, Train accuracy: 0.196667, val accuracy: 0.206000\n",
      "Loss: 2.168206, Train accuracy: 0.196667, val accuracy: 0.206000\n",
      "Loss: 2.307184, Train accuracy: 0.196667, val accuracy: 0.206000\n",
      "Loss: 2.240937, Train accuracy: 0.196667, val accuracy: 0.206000\n",
      "Loss: 2.148207, Train accuracy: 0.196667, val accuracy: 0.206000\n",
      "Loss: 2.125856, Train accuracy: 0.209778, val accuracy: 0.219000\n",
      "Loss: 2.149331, Train accuracy: 0.264556, val accuracy: 0.260000\n",
      "Loss: 1.958270, Train accuracy: 0.280667, val accuracy: 0.278000\n",
      "Loss: 1.960481, Train accuracy: 0.310111, val accuracy: 0.311000\n",
      "Loss: 1.788533, Train accuracy: 0.375889, val accuracy: 0.383000\n",
      "Loss: 1.911900, Train accuracy: 0.413556, val accuracy: 0.401000\n",
      "Loss: 1.844649, Train accuracy: 0.451222, val accuracy: 0.447000\n",
      "Loss: 1.505619, Train accuracy: 0.501778, val accuracy: 0.486000\n"
     ]
    },
    {
     "name": "stdout",
     "output_type": "stream",
     "text": [
      "Loss: 1.306304, Train accuracy: 0.531556, val accuracy: 0.529000\n",
      "Loss: 1.323790, Train accuracy: 0.571556, val accuracy: 0.550000\n",
      "Loss: 1.270325, Train accuracy: 0.597778, val accuracy: 0.579000\n",
      "best validation accuracy achieved: 0.711000\n"
     ]
    }
   ],
   "source": [
    "# Let's train the best one-hidden-layer network we can\n",
    "\n",
    "# Best parameters for now are (0.78, 50, 25, 200, 0.9, 0.8, 0.001, 0.1)\n",
    "# best_parameters = (val_history[len(val_history)-1], batch, epoch, laysize, decay, moment, reg, rate)\n",
    "\n",
    "learning_rates = [1e-1, 1e-2]\n",
    "reg_strength = [1e-3, 1e-5]\n",
    "hidden_layer_sizes = [64, 128, 256]\n",
    "batch_size = [64, 128]\n",
    "num_epochs = 16\n",
    "\n",
    "best_classifier = None\n",
    "best_val_accuracy = 0\n",
    "\n",
    "loss_history = []\n",
    "train_history = []\n",
    "val_history = []\n",
    "\n",
    "dataset = Dataset(train_X, train_y, val_X, val_y)\n",
    "\n",
    "# TODO find the best hyperparameters to train the network\n",
    "# Don't hesitate to add new values to the arrays above, perform experiments, use any tricks you want\n",
    "# You should expect to get to at least 40% of valudation accuracy\n",
    "# Save loss/train/history of the best classifier to the variables above\n",
    "for lr in learning_rates:\n",
    "    for rs in reg_strength:\n",
    "        for ls in hidden_layer_sizes:\n",
    "            for bs in batch_size:\n",
    "                model = TwoLayerNet(n_input=train_X.shape[1], n_output=10, hidden_layer_size=ls, reg=rs)\n",
    "                trainer = Trainer(model, dataset, MomentumSGD(), learning_rate=lr, num_epochs=num_epochs, batch_size=bs)\n",
    "                temp_loss_history, temp_train_history, temp_val_history = trainer.fit()\n",
    "                \n",
    "                if temp_val_history[-1] > best_val_accuracy:\n",
    "                    best_classifier = model\n",
    "                    best_val_accuracy = temp_val_history[-1]\n",
    "                    loss_history = temp_loss_history.copy()\n",
    "                    train_history = temp_train_history.copy()\n",
    "                    val_history = temp_val_history.copy()\n",
    "    \n",
    "print('best validation accuracy achieved: %f' % best_val_accuracy)"
   ]
  },
  {
   "cell_type": "code",
   "execution_count": 16,
   "metadata": {},
   "outputs": [
    {
     "data": {
      "text/plain": [
       "[<matplotlib.lines.Line2D at 0x7fb2a33df518>]"
      ]
     },
     "execution_count": 16,
     "metadata": {},
     "output_type": "execute_result"
    },
    {
     "data": {
      "image/png": "[encoded data removed]",
      "text/plain": [
       "<Figure size 1080x504 with 2 Axes>"
      ]
     },
     "metadata": {
      "needs_background": "light"
     },
     "output_type": "display_data"
    }
   ],
   "source": [
    "plt.figure(figsize=(15, 7))\n",
    "plt.subplot(211)\n",
    "plt.title(\"Loss\")\n",
    "plt.plot(loss_history)\n",
    "plt.subplot(212)\n",
    "plt.title(\"Train/validation accuracy\")\n",
    "plt.plot(train_history)\n",
    "plt.plot(val_history)"
   ]
  },
  {
   "cell_type": "markdown",
   "metadata": {},
   "source": [
    "# Как обычно, посмотрим, как наша лучшая модель работает на тестовых данных"
   ]
  },
  {
   "cell_type": "code",
   "execution_count": 17,
   "metadata": {},
   "outputs": [
    {
     "name": "stdout",
     "output_type": "stream",
     "text": [
      "Neural net test set accuracy: 0.648000\n"
     ]
    }
   ],
   "source": [
    "test_pred = best_classifier.predict(test_X)\n",
    "test_accuracy = multiclass_accuracy(test_pred, test_y)\n",
    "print('Neural net test set accuracy: %f' % (test_accuracy, ))"
   ]
  },
  {
   "cell_type": "code",
   "execution_count": null,
   "metadata": {},
   "outputs": [],
   "source": []
  }
 ],
 "metadata": {
  "kernelspec": {
   "display_name": "Python 3",
   "language": "python",
   "name": "python3"
  },
  "language_info": {
   "codemirror_mode": {
    "name": "ipython",
    "version": 3
   },
   "file_extension": ".py",
   "mimetype": "text/x-python",
   "name": "python",
   "nbconvert_exporter": "python",
   "pygments_lexer": "ipython3",
   "version": "3.6.9"
  }
 },
 "nbformat": 4,
 "nbformat_minor": 2
}
