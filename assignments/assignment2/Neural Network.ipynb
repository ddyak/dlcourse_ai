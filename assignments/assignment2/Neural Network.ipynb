{
 "cells": [
  {
   "cell_type": "markdown",
   "metadata": {},
   "source": [
    "# Задание 2.1 - Нейронные сети\n",
    "\n",
    "В этом задании вы реализуете и натренируете настоящую нейроную сеть своими руками!\n",
    "\n",
    "В некотором смысле это будет расширением прошлого задания - нам нужно просто составить несколько линейных классификаторов вместе!\n",
    "\n",
    "<img src=\"https://i.redd.it/n9fgba8b0qr01.png\" alt=\"Stack_more_layers\" width=\"400px\"/>"
   ]
  },
  {
   "cell_type": "code",
   "execution_count": 1,
   "metadata": {},
   "outputs": [],
   "source": [
    "import numpy as np\n",
    "import matplotlib.pyplot as plt\n",
    "\n",
    "%matplotlib inline\n",
    "\n",
    "%load_ext autoreload\n",
    "%autoreload 2"
   ]
  },
  {
   "cell_type": "code",
   "execution_count": 2,
   "metadata": {},
   "outputs": [],
   "source": [
    "from dataset import load_svhn, random_split_train_val\n",
    "from gradient_check import check_layer_gradient, check_layer_param_gradient, check_model_gradient\n",
    "from layers import FullyConnectedLayer, ReLULayer\n",
    "from model import TwoLayerNet\n",
    "from trainer import Trainer, Dataset\n",
    "from optim import SGD, MomentumSGD\n",
    "from metrics import multiclass_accuracy"
   ]
  },
  {
   "cell_type": "markdown",
   "metadata": {},
   "source": [
    "# Загружаем данные\n",
    "\n",
    "И разделяем их на training и validation."
   ]
  },
  {
   "cell_type": "code",
   "execution_count": 3,
   "metadata": {},
   "outputs": [],
   "source": [
    "def prepare_for_neural_network(train_X, test_X):\n",
    "    train_flat = train_X.reshape(train_X.shape[0], -1).astype(np.float) / 255.0\n",
    "    test_flat = test_X.reshape(test_X.shape[0], -1).astype(np.float) / 255.0\n",
    "    \n",
    "    # Subtract mean\n",
    "    mean_image = np.mean(train_flat, axis = 0)\n",
    "    train_flat -= mean_image\n",
    "    test_flat -= mean_image\n",
    "    \n",
    "    return train_flat, test_flat\n",
    "    \n",
    "train_X, train_y, test_X, test_y = load_svhn(\"data\", max_train=10000, max_test=1000)    \n",
    "train_X, test_X = prepare_for_neural_network(train_X, test_X)\n",
    "# Split train into train and val\n",
    "train_X, train_y, val_X, val_y = random_split_train_val(train_X, train_y, num_val = 1000)"
   ]
  },
  {
   "cell_type": "markdown",
   "metadata": {},
   "source": [
    "# Как всегда, начинаем с кирпичиков\n",
    "\n",
    "Мы будем реализовывать необходимые нам слои по очереди. Каждый слой должен реализовать:\n",
    "- прямой проход (forward pass), который генерирует выход слоя по входу и запоминает необходимые данные\n",
    "- обратный проход (backward pass), который получает градиент по выходу слоя и вычисляет градиент по входу и по параметрам\n",
    "\n",
    "Начнем с ReLU, у которого параметров нет."
   ]
  },
  {
   "cell_type": "code",
   "execution_count": 4,
   "metadata": {
    "scrolled": false
   },
   "outputs": [
    {
     "name": "stdout",
     "output_type": "stream",
     "text": [
      "Gradient check passed!\n"
     ]
    }
   ],
   "source": [
    "# TODO: Implement ReLULayer layer in layers.py\n",
    "# Note: you'll need to copy implementation of the gradient_check function from the previous assignment\n",
    "\n",
    "X = np.array([[1,-2,3],\n",
    "              [-1, 2, 0.1]\n",
    "              ])\n",
    "\n",
    "assert check_layer_gradient(ReLULayer(), X)"
   ]
  },
  {
   "cell_type": "markdown",
   "metadata": {},
   "source": [
    "А теперь реализуем полносвязный слой (fully connected layer), у которого будет два массива параметров: W (weights) и B (bias).\n",
    "\n",
    "Все параметры наши слои будут использовать для параметров специальный класс `Param`, в котором будут храниться значения параметров и градиенты этих параметров, вычисляемые во время обратного прохода.\n",
    "\n",
    "Это даст возможность аккумулировать (суммировать) градиенты из разных частей функции потерь, например, из cross-entropy loss и regularization loss."
   ]
  },
  {
   "cell_type": "code",
   "execution_count": 5,
   "metadata": {},
   "outputs": [
    {
     "name": "stdout",
     "output_type": "stream",
     "text": [
      "Gradient check passed!\n",
      "Gradient check passed!\n",
      "Gradient check passed!\n"
     ]
    }
   ],
   "source": [
    "# TODO: Implement FullyConnected layer forward and backward methods\n",
    "assert check_layer_gradient(FullyConnectedLayer(3, 4), X)\n",
    "# TODO: Implement storing gradients for W and B\n",
    "assert check_layer_param_gradient(FullyConnectedLayer(3, 4), X, 'W')\n",
    "assert check_layer_param_gradient(FullyConnectedLayer(3, 4), X, 'B')"
   ]
  },
  {
   "cell_type": "markdown",
   "metadata": {},
   "source": [
    "## Создаем нейронную сеть\n",
    "\n",
    "Теперь мы реализуем простейшую нейронную сеть с двумя полносвязным слоями и нелинейностью ReLU. Реализуйте функцию `compute_loss_and_gradients`, она должна запустить прямой и обратный проход через оба слоя для вычисления градиентов.\n",
    "\n",
    "Не забудьте реализовать очистку градиентов в начале функции."
   ]
  },
  {
   "cell_type": "code",
   "execution_count": 6,
   "metadata": {},
   "outputs": [
    {
     "name": "stdout",
     "output_type": "stream",
     "text": [
      "Checking gradient for W_out\n",
      "Gradient check passed!\n",
      "Checking gradient for W_in\n",
      "Gradient check passed!\n",
      "Checking gradient for B_out\n",
      "Gradient check passed!\n",
      "Checking gradient for B_in\n",
      "Gradient check passed!\n"
     ]
    },
    {
     "data": {
      "text/plain": [
       "True"
      ]
     },
     "execution_count": 6,
     "metadata": {},
     "output_type": "execute_result"
    }
   ],
   "source": [
    "# TODO: In model.py, implement compute_loss_and_gradients function\n",
    "model = TwoLayerNet(n_input = train_X.shape[1], n_output = 10, hidden_layer_size = 3, reg = 0)\n",
    "loss = model.compute_loss_and_gradients(train_X[:2], train_y[:2])\n",
    "\n",
    "# TODO Now implement backward pass and aggregate all of the params\n",
    "check_model_gradient(model, train_X[:2], train_y[:2])"
   ]
  },
  {
   "cell_type": "markdown",
   "metadata": {},
   "source": [
    "Теперь добавьте к модели регуляризацию - она должна прибавляться к loss и делать свой вклад в градиенты."
   ]
  },
  {
   "cell_type": "code",
   "execution_count": 7,
   "metadata": {},
   "outputs": [
    {
     "name": "stdout",
     "output_type": "stream",
     "text": [
      "Checking gradient for W_out\n",
      "Gradient check passed!\n",
      "Checking gradient for W_in\n",
      "Gradient check passed!\n",
      "Checking gradient for B_out\n",
      "Gradient check passed!\n",
      "Checking gradient for B_in\n",
      "Gradient check passed!\n"
     ]
    },
    {
     "data": {
      "text/plain": [
       "True"
      ]
     },
     "execution_count": 7,
     "metadata": {},
     "output_type": "execute_result"
    }
   ],
   "source": [
    "# TODO Now implement l2 regularization in the forward and backward pass\n",
    "model_with_reg = TwoLayerNet(n_input = train_X.shape[1], n_output = 10, hidden_layer_size = 3, reg = 1e1)\n",
    "loss_with_reg = model_with_reg.compute_loss_and_gradients(train_X[:2], train_y[:2])\n",
    "assert loss_with_reg > loss and not np.isclose(loss_with_reg, loss), \\\n",
    "    \"Loss with regularization (%2.4f) should be higher than without it (%2.4f)!\" % (loss, loss_with_reg)\n",
    "\n",
    "check_model_gradient(model_with_reg, train_X[:2], train_y[:2])"
   ]
  },
  {
   "cell_type": "markdown",
   "metadata": {},
   "source": [
    "Также реализуем функцию предсказания (вычисления значения) модели на новых данных.\n",
    "\n",
    "Какое значение точности мы ожидаем увидеть до начала тренировки?\n",
    "\n",
    "**Ответ:** В среднем 0.1, поскольку сеть нетренирована. Флуктуации обеспечены рандомным распределением весов сети."
   ]
  },
  {
   "cell_type": "code",
   "execution_count": 8,
   "metadata": {},
   "outputs": [
    {
     "data": {
      "text/plain": [
       "0.1"
      ]
     },
     "execution_count": 8,
     "metadata": {},
     "output_type": "execute_result"
    }
   ],
   "source": [
    "# Finally, implement predict function!\n",
    "\n",
    "# TODO: Implement predict function\n",
    "# What would be the value we expect?\n",
    "multiclass_accuracy(model_with_reg.predict(train_X[:30]), train_y[:30]) "
   ]
  },
  {
   "cell_type": "markdown",
   "metadata": {},
   "source": [
    "# Допишем код для процесса тренировки\n",
    "\n",
    "Если все реализовано корректно, значение функции ошибки должно уменьшаться с каждой эпохой, пусть и медленно. Не беспокойтесь пока про validation accuracy."
   ]
  },
  {
   "cell_type": "code",
   "execution_count": 9,
   "metadata": {},
   "outputs": [
    {
     "name": "stdout",
     "output_type": "stream",
     "text": [
      "Loss: 2.256525, Train accuracy: 0.196667, val accuracy: 0.206000\n",
      "Loss: 2.234411, Train accuracy: 0.196667, val accuracy: 0.206000\n",
      "Loss: 2.218805, Train accuracy: 0.196667, val accuracy: 0.206000\n",
      "Loss: 2.299442, Train accuracy: 0.196667, val accuracy: 0.206000\n",
      "Loss: 2.250353, Train accuracy: 0.196667, val accuracy: 0.206000\n",
      "Loss: 2.204378, Train accuracy: 0.196667, val accuracy: 0.206000\n",
      "Loss: 2.344327, Train accuracy: 0.196667, val accuracy: 0.206000\n",
      "Loss: 2.242054, Train accuracy: 0.196667, val accuracy: 0.206000\n",
      "Loss: 2.280916, Train accuracy: 0.196667, val accuracy: 0.206000\n",
      "Loss: 2.261553, Train accuracy: 0.196667, val accuracy: 0.206000\n",
      "Loss: 2.259453, Train accuracy: 0.196667, val accuracy: 0.206000\n",
      "Loss: 2.301086, Train accuracy: 0.196667, val accuracy: 0.206000\n",
      "Loss: 2.339098, Train accuracy: 0.196667, val accuracy: 0.206000\n",
      "Loss: 2.268823, Train accuracy: 0.196667, val accuracy: 0.206000\n",
      "Loss: 2.367442, Train accuracy: 0.196667, val accuracy: 0.206000\n",
      "Loss: 2.226122, Train accuracy: 0.196667, val accuracy: 0.206000\n",
      "Loss: 2.320075, Train accuracy: 0.196667, val accuracy: 0.206000\n",
      "Loss: 2.310768, Train accuracy: 0.196667, val accuracy: 0.206000\n",
      "Loss: 2.297086, Train accuracy: 0.196667, val accuracy: 0.206000\n",
      "Loss: 2.290384, Train accuracy: 0.196667, val accuracy: 0.206000\n"
     ]
    }
   ],
   "source": [
    "model = TwoLayerNet(n_input = train_X.shape[1], n_output = 10, hidden_layer_size = 100, reg = 1e-1)\n",
    "dataset = Dataset(train_X, train_y, val_X, val_y)\n",
    "trainer = Trainer(model, dataset, SGD(), learning_rate = 1e-2)\n",
    "\n",
    "# TODO Implement missing pieces in Trainer.fit function\n",
    "# You should expect loss to go down every epoch, even if it's slow\n",
    "loss_history, train_history, val_history = trainer.fit()"
   ]
  },
  {
   "cell_type": "markdown",
   "metadata": {},
   "source": [
    "**Комментарий:** Уменьшил коэффициент регуляризации с 1e1 до 1e-1, поскольку функция потерь не уменьшалась."
   ]
  },
  {
   "cell_type": "code",
   "execution_count": 10,
   "metadata": {},
   "outputs": [
    {
     "data": {
      "text/plain": [
       "[<matplotlib.lines.Line2D at 0x7f6f168345c0>]"
      ]
     },
     "execution_count": 10,
     "metadata": {},
     "output_type": "execute_result"
    },
    {
     "data": {
      "image/png": "[encoded data removed]",
      "text/plain": [
       "<Figure size 432x288 with 1 Axes>"
      ]
     },
     "metadata": {
      "needs_background": "light"
     },
     "output_type": "display_data"
    }
   ],
   "source": [
    "plt.plot(loss_history)"
   ]
  },
  {
   "cell_type": "markdown",
   "metadata": {},
   "source": [
    "# Улучшаем процесс тренировки\n",
    "\n",
    "Мы реализуем несколько ключевых оптимизаций, необходимых для тренировки современных нейросетей."
   ]
  },
  {
   "cell_type": "markdown",
   "metadata": {},
   "source": [
    "## Уменьшение скорости обучения (learning rate decay)\n",
    "\n",
    "Одна из необходимых оптимизаций во время тренировки нейронных сетей - постепенное уменьшение скорости обучения по мере тренировки.\n",
    "\n",
    "Один из стандартных методов - уменьшение скорости обучения (learning rate) каждые N эпох на коэффициент d (часто называемый decay). Значения N и d, как всегда, являются гиперпараметрами и должны подбираться на основе эффективности на проверочных данных (validation data). \n",
    "\n",
    "В нашем случае N будет равным 1."
   ]
  },
  {
   "cell_type": "code",
   "execution_count": 11,
   "metadata": {},
   "outputs": [
    {
     "name": "stdout",
     "output_type": "stream",
     "text": [
      "Loss: 2.275985, Train accuracy: 0.196667, val accuracy: 0.206000\n",
      "Loss: 2.347515, Train accuracy: 0.196667, val accuracy: 0.206000\n",
      "Loss: 2.264348, Train accuracy: 0.196667, val accuracy: 0.206000\n",
      "Loss: 2.287890, Train accuracy: 0.196667, val accuracy: 0.206000\n",
      "Loss: 2.253264, Train accuracy: 0.196667, val accuracy: 0.206000\n",
      "Loss: 2.265011, Train accuracy: 0.196667, val accuracy: 0.206000\n",
      "Loss: 2.212698, Train accuracy: 0.196667, val accuracy: 0.206000\n",
      "Loss: 2.320777, Train accuracy: 0.196667, val accuracy: 0.206000\n",
      "Loss: 2.302624, Train accuracy: 0.196667, val accuracy: 0.206000\n",
      "Loss: 2.311032, Train accuracy: 0.196667, val accuracy: 0.206000\n",
      "Loss: 2.234316, Train accuracy: 0.196667, val accuracy: 0.206000\n",
      "Loss: 2.283390, Train accuracy: 0.196667, val accuracy: 0.206000\n",
      "Loss: 2.353994, Train accuracy: 0.196667, val accuracy: 0.206000\n",
      "Loss: 2.217454, Train accuracy: 0.196667, val accuracy: 0.206000\n",
      "Loss: 2.378711, Train accuracy: 0.196667, val accuracy: 0.206000\n",
      "Loss: 2.256101, Train accuracy: 0.196667, val accuracy: 0.206000\n",
      "Loss: 2.309860, Train accuracy: 0.196667, val accuracy: 0.206000\n",
      "Loss: 2.264767, Train accuracy: 0.196667, val accuracy: 0.206000\n",
      "Loss: 2.276485, Train accuracy: 0.196667, val accuracy: 0.206000\n",
      "Loss: 2.274562, Train accuracy: 0.196667, val accuracy: 0.206000\n"
     ]
    }
   ],
   "source": [
    "# TODO Implement learning rate decay inside Trainer.fit method\n",
    "# Decay should happen once per epoch\n",
    "\n",
    "model = TwoLayerNet(n_input = train_X.shape[1], n_output = 10, hidden_layer_size = 100, reg = 1e-1)\n",
    "dataset = Dataset(train_X, train_y, val_X, val_y)\n",
    "trainer = Trainer(model, dataset, SGD(), learning_rate_decay=0.99)\n",
    "\n",
    "initial_learning_rate = trainer.learning_rate\n",
    "loss_history, train_history, val_history = trainer.fit()\n",
    "\n",
    "assert trainer.learning_rate < initial_learning_rate, \"Learning rate should've been reduced\"\n",
    "assert trainer.learning_rate > 0.5*initial_learning_rate, \"Learning rate shouldn'tve been reduced that much!\""
   ]
  },
  {
   "cell_type": "markdown",
   "metadata": {},
   "source": [
    "# Накопление импульса (Momentum SGD)\n",
    "\n",
    "Другой большой класс оптимизаций - использование более эффективных методов градиентного спуска. Мы реализуем один из них - накопление импульса (Momentum SGD).\n",
    "\n",
    "Этот метод хранит скорость движения, использует градиент для ее изменения на каждом шаге, и изменяет веса пропорционально значению скорости.\n",
    "(Физическая аналогия: Вместо скорости градиенты теперь будут задавать ускорение, но будет присутствовать сила трения.)\n",
    "\n",
    "```\n",
    "velocity = momentum * velocity - learning_rate * gradient \n",
    "w = w + velocity\n",
    "```\n",
    "\n",
    "`momentum` здесь коэффициент затухания, который тоже является гиперпараметром (к счастью, для него часто есть хорошее значение по умолчанию, типичный диапазон -- 0.8-0.99).\n",
    "\n",
    "Несколько полезных ссылок, где метод разбирается более подробно:  \n",
    "http://cs231n.github.io/neural-networks-3/#sgd  \n",
    "https://distill.pub/2017/momentum/"
   ]
  },
  {
   "cell_type": "code",
   "execution_count": 12,
   "metadata": {},
   "outputs": [
    {
     "name": "stdout",
     "output_type": "stream",
     "text": [
      "Loss: 2.322051, Train accuracy: 0.196667, val accuracy: 0.206000\n",
      "Loss: 2.308033, Train accuracy: 0.196667, val accuracy: 0.206000\n",
      "Loss: 2.317549, Train accuracy: 0.196667, val accuracy: 0.206000\n",
      "Loss: 2.262630, Train accuracy: 0.196667, val accuracy: 0.206000\n",
      "Loss: 2.270323, Train accuracy: 0.196667, val accuracy: 0.206000\n",
      "Loss: 2.308261, Train accuracy: 0.196667, val accuracy: 0.206000\n",
      "Loss: 2.264990, Train accuracy: 0.196667, val accuracy: 0.206000\n",
      "Loss: 2.278636, Train accuracy: 0.196667, val accuracy: 0.206000\n",
      "Loss: 2.267083, Train accuracy: 0.196667, val accuracy: 0.206000\n",
      "Loss: 2.279901, Train accuracy: 0.196667, val accuracy: 0.206000\n",
      "Loss: 2.276510, Train accuracy: 0.196667, val accuracy: 0.206000\n",
      "Loss: 2.314133, Train accuracy: 0.196667, val accuracy: 0.206000\n",
      "Loss: 2.256404, Train accuracy: 0.196667, val accuracy: 0.206000\n",
      "Loss: 2.295822, Train accuracy: 0.196667, val accuracy: 0.206000\n",
      "Loss: 2.290051, Train accuracy: 0.196667, val accuracy: 0.206000\n",
      "Loss: 2.278750, Train accuracy: 0.196667, val accuracy: 0.206000\n",
      "Loss: 2.280567, Train accuracy: 0.196667, val accuracy: 0.206000\n",
      "Loss: 2.255044, Train accuracy: 0.196667, val accuracy: 0.206000\n",
      "Loss: 2.240982, Train accuracy: 0.196667, val accuracy: 0.206000\n",
      "Loss: 2.315651, Train accuracy: 0.196667, val accuracy: 0.206000\n"
     ]
    }
   ],
   "source": [
    "# TODO: Implement MomentumSGD.update function in optim.py\n",
    "\n",
    "model = TwoLayerNet(n_input = train_X.shape[1], n_output = 10, hidden_layer_size = 100, reg = 1e-1)\n",
    "dataset = Dataset(train_X, train_y, val_X, val_y)\n",
    "trainer = Trainer(model, dataset, MomentumSGD(), learning_rate=1e-4, learning_rate_decay=0.99)\n",
    "\n",
    "# You should see even better results than before!\n",
    "loss_history, train_history, val_history = trainer.fit()"
   ]
  },
  {
   "cell_type": "markdown",
   "metadata": {},
   "source": [
    "# Ну что, давайте уже тренировать сеть!"
   ]
  },
  {
   "cell_type": "markdown",
   "metadata": {},
   "source": [
    "## Последний тест - переобучимся (overfit) на маленьком наборе данных\n",
    "\n",
    "Хороший способ проверить, все ли реализовано корректно - переобучить сеть на маленьком наборе данных.  \n",
    "Наша модель обладает достаточной мощностью, чтобы приблизить маленький набор данных идеально, поэтому мы ожидаем, что на нем мы быстро дойдем до 100% точности на тренировочном наборе. \n",
    "\n",
    "Если этого не происходит, то где-то была допущена ошибка!"
   ]
  },
  {
   "cell_type": "code",
   "execution_count": 13,
   "metadata": {},
   "outputs": [
    {
     "name": "stdout",
     "output_type": "stream",
     "text": [
      "Loss: 2.351801, Train accuracy: 0.200000, val accuracy: 0.133333\n",
      "Loss: 2.319693, Train accuracy: 0.200000, val accuracy: 0.133333\n",
      "Loss: 2.295926, Train accuracy: 0.200000, val accuracy: 0.133333\n",
      "Loss: 2.345443, Train accuracy: 0.200000, val accuracy: 0.133333\n",
      "Loss: 2.310013, Train accuracy: 0.200000, val accuracy: 0.133333\n",
      "Loss: 2.326544, Train accuracy: 0.200000, val accuracy: 0.133333\n",
      "Loss: 2.255641, Train accuracy: 0.200000, val accuracy: 0.133333\n",
      "Loss: 2.199259, Train accuracy: 0.200000, val accuracy: 0.066667\n",
      "Loss: 2.164561, Train accuracy: 0.333333, val accuracy: 0.066667\n",
      "Loss: 2.025661, Train accuracy: 0.400000, val accuracy: 0.000000\n",
      "Loss: 1.883798, Train accuracy: 0.400000, val accuracy: 0.000000\n",
      "Loss: 2.263931, Train accuracy: 0.400000, val accuracy: 0.000000\n",
      "Loss: 1.662918, Train accuracy: 0.333333, val accuracy: 0.000000\n",
      "Loss: 2.245522, Train accuracy: 0.333333, val accuracy: 0.000000\n",
      "Loss: 1.943906, Train accuracy: 0.400000, val accuracy: 0.000000\n",
      "Loss: 1.663953, Train accuracy: 0.333333, val accuracy: 0.000000\n",
      "Loss: 2.042200, Train accuracy: 0.400000, val accuracy: 0.000000\n",
      "Loss: 1.418303, Train accuracy: 0.400000, val accuracy: 0.000000\n",
      "Loss: 1.519709, Train accuracy: 0.400000, val accuracy: 0.000000\n",
      "Loss: 1.823944, Train accuracy: 0.466667, val accuracy: 0.000000\n",
      "Loss: 2.022291, Train accuracy: 0.400000, val accuracy: 0.000000\n",
      "Loss: 1.585656, Train accuracy: 0.400000, val accuracy: 0.000000\n",
      "Loss: 1.937038, Train accuracy: 0.400000, val accuracy: 0.066667\n",
      "Loss: 1.908215, Train accuracy: 0.466667, val accuracy: 0.000000\n",
      "Loss: 1.233499, Train accuracy: 0.466667, val accuracy: 0.000000\n",
      "Loss: 2.095108, Train accuracy: 0.466667, val accuracy: 0.000000\n",
      "Loss: 1.718242, Train accuracy: 0.466667, val accuracy: 0.066667\n",
      "Loss: 2.162756, Train accuracy: 0.466667, val accuracy: 0.066667\n",
      "Loss: 2.015933, Train accuracy: 0.466667, val accuracy: 0.000000\n",
      "Loss: 1.363952, Train accuracy: 0.466667, val accuracy: 0.000000\n",
      "Loss: 1.842670, Train accuracy: 0.533333, val accuracy: 0.000000\n",
      "Loss: 1.657567, Train accuracy: 0.533333, val accuracy: 0.066667\n",
      "Loss: 1.388463, Train accuracy: 0.533333, val accuracy: 0.066667\n",
      "Loss: 1.911120, Train accuracy: 0.533333, val accuracy: 0.066667\n",
      "Loss: 1.693765, Train accuracy: 0.600000, val accuracy: 0.000000\n",
      "Loss: 2.010436, Train accuracy: 0.600000, val accuracy: 0.066667\n",
      "Loss: 1.115900, Train accuracy: 0.600000, val accuracy: 0.066667\n",
      "Loss: 1.613706, Train accuracy: 0.600000, val accuracy: 0.066667\n",
      "Loss: 1.738574, Train accuracy: 0.600000, val accuracy: 0.066667\n",
      "Loss: 1.885192, Train accuracy: 0.600000, val accuracy: 0.066667\n",
      "Loss: 2.474042, Train accuracy: 0.666667, val accuracy: 0.066667\n",
      "Loss: 1.119274, Train accuracy: 0.666667, val accuracy: 0.066667\n",
      "Loss: 1.672047, Train accuracy: 0.666667, val accuracy: 0.066667\n",
      "Loss: 1.767860, Train accuracy: 0.666667, val accuracy: 0.066667\n",
      "Loss: 1.478802, Train accuracy: 0.666667, val accuracy: 0.066667\n",
      "Loss: 1.926619, Train accuracy: 0.733333, val accuracy: 0.066667\n",
      "Loss: 1.337383, Train accuracy: 0.733333, val accuracy: 0.066667\n",
      "Loss: 1.683186, Train accuracy: 0.733333, val accuracy: 0.066667\n",
      "Loss: 1.660081, Train accuracy: 0.800000, val accuracy: 0.066667\n",
      "Loss: 1.401881, Train accuracy: 0.733333, val accuracy: 0.133333\n",
      "Loss: 1.635264, Train accuracy: 0.733333, val accuracy: 0.000000\n",
      "Loss: 1.635617, Train accuracy: 0.733333, val accuracy: 0.066667\n",
      "Loss: 1.622938, Train accuracy: 0.733333, val accuracy: 0.066667\n",
      "Loss: 1.854111, Train accuracy: 0.733333, val accuracy: 0.066667\n",
      "Loss: 1.556636, Train accuracy: 0.733333, val accuracy: 0.066667\n",
      "Loss: 1.634732, Train accuracy: 0.733333, val accuracy: 0.066667\n",
      "Loss: 1.076198, Train accuracy: 0.666667, val accuracy: 0.000000\n",
      "Loss: 1.007559, Train accuracy: 0.733333, val accuracy: 0.066667\n",
      "Loss: 1.531114, Train accuracy: 0.733333, val accuracy: 0.066667\n",
      "Loss: 1.041336, Train accuracy: 0.733333, val accuracy: 0.066667\n",
      "Loss: 2.022564, Train accuracy: 0.733333, val accuracy: 0.066667\n",
      "Loss: 1.647379, Train accuracy: 0.733333, val accuracy: 0.066667\n",
      "Loss: 1.369538, Train accuracy: 0.733333, val accuracy: 0.066667\n",
      "Loss: 1.379903, Train accuracy: 0.733333, val accuracy: 0.066667\n",
      "Loss: 1.986917, Train accuracy: 0.733333, val accuracy: 0.066667\n",
      "Loss: 1.318972, Train accuracy: 0.733333, val accuracy: 0.066667\n",
      "Loss: 1.283966, Train accuracy: 0.733333, val accuracy: 0.000000\n",
      "Loss: 0.936269, Train accuracy: 0.733333, val accuracy: 0.066667\n",
      "Loss: 1.196061, Train accuracy: 0.733333, val accuracy: 0.066667\n",
      "Loss: 1.739352, Train accuracy: 0.733333, val accuracy: 0.066667\n",
      "Loss: 1.634901, Train accuracy: 0.733333, val accuracy: 0.066667\n",
      "Loss: 1.201189, Train accuracy: 0.733333, val accuracy: 0.000000\n",
      "Loss: 1.582981, Train accuracy: 0.733333, val accuracy: 0.066667\n",
      "Loss: 1.742143, Train accuracy: 0.733333, val accuracy: 0.066667\n",
      "Loss: 1.293135, Train accuracy: 0.733333, val accuracy: 0.066667\n",
      "Loss: 1.748190, Train accuracy: 0.800000, val accuracy: 0.066667\n",
      "Loss: 1.976545, Train accuracy: 0.800000, val accuracy: 0.000000\n",
      "Loss: 1.357876, Train accuracy: 0.800000, val accuracy: 0.066667\n",
      "Loss: 0.992895, Train accuracy: 0.800000, val accuracy: 0.066667\n",
      "Loss: 1.602046, Train accuracy: 0.800000, val accuracy: 0.066667\n",
      "Loss: 1.602167, Train accuracy: 0.866667, val accuracy: 0.066667\n",
      "Loss: 1.173057, Train accuracy: 0.866667, val accuracy: 0.066667\n",
      "Loss: 1.312798, Train accuracy: 0.866667, val accuracy: 0.000000\n",
      "Loss: 1.564551, Train accuracy: 0.866667, val accuracy: 0.000000\n",
      "Loss: 0.961713, Train accuracy: 0.866667, val accuracy: 0.066667\n",
      "Loss: 1.274091, Train accuracy: 0.866667, val accuracy: 0.066667\n",
      "Loss: 1.304703, Train accuracy: 0.933333, val accuracy: 0.066667\n",
      "Loss: 0.958926, Train accuracy: 0.933333, val accuracy: 0.066667\n",
      "Loss: 1.377168, Train accuracy: 0.866667, val accuracy: 0.066667\n",
      "Loss: 1.657193, Train accuracy: 0.933333, val accuracy: 0.066667\n",
      "Loss: 1.389767, Train accuracy: 0.933333, val accuracy: 0.066667\n",
      "Loss: 1.576803, Train accuracy: 0.933333, val accuracy: 0.066667\n",
      "Loss: 1.556738, Train accuracy: 0.933333, val accuracy: 0.066667\n",
      "Loss: 1.175409, Train accuracy: 0.933333, val accuracy: 0.000000\n",
      "Loss: 1.322616, Train accuracy: 0.933333, val accuracy: 0.066667\n",
      "Loss: 1.251510, Train accuracy: 0.933333, val accuracy: 0.066667\n",
      "Loss: 1.060407, Train accuracy: 0.933333, val accuracy: 0.066667\n",
      "Loss: 1.661861, Train accuracy: 0.933333, val accuracy: 0.066667\n",
      "Loss: 1.227308, Train accuracy: 0.933333, val accuracy: 0.066667\n",
      "Loss: 1.597969, Train accuracy: 0.933333, val accuracy: 0.066667\n",
      "Loss: 1.887250, Train accuracy: 0.933333, val accuracy: 0.066667\n",
      "Loss: 1.338688, Train accuracy: 0.933333, val accuracy: 0.066667\n",
      "Loss: 1.842966, Train accuracy: 0.933333, val accuracy: 0.066667\n",
      "Loss: 1.160604, Train accuracy: 0.933333, val accuracy: 0.066667\n",
      "Loss: 1.347215, Train accuracy: 0.933333, val accuracy: 0.066667\n",
      "Loss: 1.223119, Train accuracy: 0.933333, val accuracy: 0.066667\n",
      "Loss: 1.436648, Train accuracy: 0.933333, val accuracy: 0.000000\n",
      "Loss: 1.535320, Train accuracy: 0.933333, val accuracy: 0.066667\n",
      "Loss: 1.249121, Train accuracy: 0.933333, val accuracy: 0.066667\n",
      "Loss: 1.248964, Train accuracy: 0.933333, val accuracy: 0.000000\n",
      "Loss: 1.549803, Train accuracy: 1.000000, val accuracy: 0.066667\n",
      "Loss: 1.259687, Train accuracy: 0.933333, val accuracy: 0.000000\n",
      "Loss: 1.097239, Train accuracy: 1.000000, val accuracy: 0.000000\n",
      "Loss: 1.324286, Train accuracy: 0.933333, val accuracy: 0.000000\n",
      "Loss: 1.315431, Train accuracy: 0.933333, val accuracy: 0.000000\n",
      "Loss: 1.420746, Train accuracy: 1.000000, val accuracy: 0.000000\n",
      "Loss: 1.443017, Train accuracy: 0.933333, val accuracy: 0.000000\n",
      "Loss: 1.301618, Train accuracy: 1.000000, val accuracy: 0.000000\n",
      "Loss: 1.533658, Train accuracy: 1.000000, val accuracy: 0.000000\n",
      "Loss: 1.607993, Train accuracy: 1.000000, val accuracy: 0.000000\n",
      "Loss: 1.239065, Train accuracy: 0.933333, val accuracy: 0.000000\n",
      "Loss: 1.649177, Train accuracy: 1.000000, val accuracy: 0.000000\n",
      "Loss: 1.174445, Train accuracy: 1.000000, val accuracy: 0.000000\n",
      "Loss: 1.602848, Train accuracy: 1.000000, val accuracy: 0.000000\n",
      "Loss: 1.363682, Train accuracy: 1.000000, val accuracy: 0.000000\n",
      "Loss: 1.160640, Train accuracy: 1.000000, val accuracy: 0.000000\n",
      "Loss: 1.197888, Train accuracy: 1.000000, val accuracy: 0.000000\n"
     ]
    },
    {
     "name": "stdout",
     "output_type": "stream",
     "text": [
      "Loss: 1.126413, Train accuracy: 1.000000, val accuracy: 0.000000\n",
      "Loss: 1.008120, Train accuracy: 1.000000, val accuracy: 0.000000\n",
      "Loss: 1.643235, Train accuracy: 1.000000, val accuracy: 0.000000\n",
      "Loss: 1.592807, Train accuracy: 1.000000, val accuracy: 0.000000\n",
      "Loss: 1.412599, Train accuracy: 1.000000, val accuracy: 0.000000\n",
      "Loss: 1.212850, Train accuracy: 1.000000, val accuracy: 0.000000\n",
      "Loss: 1.196541, Train accuracy: 0.933333, val accuracy: 0.000000\n",
      "Loss: 1.280346, Train accuracy: 1.000000, val accuracy: 0.000000\n",
      "Loss: 1.403204, Train accuracy: 1.000000, val accuracy: 0.000000\n",
      "Loss: 1.229377, Train accuracy: 1.000000, val accuracy: 0.000000\n",
      "Loss: 1.400568, Train accuracy: 1.000000, val accuracy: 0.000000\n",
      "Loss: 1.391042, Train accuracy: 1.000000, val accuracy: 0.000000\n",
      "Loss: 1.102808, Train accuracy: 1.000000, val accuracy: 0.000000\n",
      "Loss: 1.445285, Train accuracy: 1.000000, val accuracy: 0.000000\n",
      "Loss: 1.406323, Train accuracy: 1.000000, val accuracy: 0.000000\n",
      "Loss: 1.219193, Train accuracy: 1.000000, val accuracy: 0.000000\n",
      "Loss: 1.449330, Train accuracy: 1.000000, val accuracy: 0.000000\n",
      "Loss: 1.304464, Train accuracy: 1.000000, val accuracy: 0.000000\n",
      "Loss: 1.494726, Train accuracy: 1.000000, val accuracy: 0.000000\n",
      "Loss: 1.327706, Train accuracy: 1.000000, val accuracy: 0.000000\n",
      "Loss: 1.361608, Train accuracy: 1.000000, val accuracy: 0.000000\n",
      "Loss: 1.460816, Train accuracy: 1.000000, val accuracy: 0.000000\n",
      "Loss: 1.424061, Train accuracy: 1.000000, val accuracy: 0.000000\n"
     ]
    }
   ],
   "source": [
    "data_size = 15\n",
    "model = TwoLayerNet(n_input = train_X.shape[1], n_output = 10, hidden_layer_size = 100, reg = 1e-1)\n",
    "dataset = Dataset(train_X[:data_size], train_y[:data_size], val_X[:data_size], val_y[:data_size])\n",
    "trainer = Trainer(model, dataset, SGD(), learning_rate=1e-1, num_epochs=150, batch_size=5)\n",
    "\n",
    "# You should expect this to reach 1.0 training accuracy \n",
    "loss_history, train_history, val_history = trainer.fit()"
   ]
  },
  {
   "cell_type": "markdown",
   "metadata": {},
   "source": [
    "Теперь найдем гипепараметры, для которых этот процесс сходится быстрее.\n",
    "Если все реализовано корректно, то существуют параметры, при которых процесс сходится в **20** эпох или еще быстрее.\n",
    "Найдите их!\n",
    "\n",
    "**Комментарий**: Перед тем как устроить перебор по всей сетке параметров, подберем на глаз: поставим Momentum, увеличим число нейронов в скрытом слое, поставим не такую большую регуляризацию. В случае успеха не придется делать перебор.\n",
    "\n",
    "UPD: Сработало."
   ]
  },
  {
   "cell_type": "code",
   "execution_count": 14,
   "metadata": {},
   "outputs": [
    {
     "name": "stdout",
     "output_type": "stream",
     "text": [
      "Loss: 2.308723, Train accuracy: 0.200000, val accuracy: 0.133333\n",
      "Loss: 2.304107, Train accuracy: 0.200000, val accuracy: 0.066667\n",
      "Loss: 2.261888, Train accuracy: 0.333333, val accuracy: 0.066667\n",
      "Loss: 2.197640, Train accuracy: 0.333333, val accuracy: 0.066667\n",
      "Loss: 2.000701, Train accuracy: 0.333333, val accuracy: 0.000000\n",
      "Loss: 1.682325, Train accuracy: 0.333333, val accuracy: 0.000000\n",
      "Loss: 1.603348, Train accuracy: 0.333333, val accuracy: 0.000000\n",
      "Loss: 1.851231, Train accuracy: 0.466667, val accuracy: 0.000000\n",
      "Loss: 2.122996, Train accuracy: 0.400000, val accuracy: 0.133333\n",
      "Loss: 1.678297, Train accuracy: 0.533333, val accuracy: 0.000000\n",
      "Loss: 1.986914, Train accuracy: 0.733333, val accuracy: 0.000000\n",
      "Loss: 0.856270, Train accuracy: 0.733333, val accuracy: 0.000000\n",
      "Loss: 0.380942, Train accuracy: 0.733333, val accuracy: 0.000000\n",
      "Loss: 0.262060, Train accuracy: 0.866667, val accuracy: 0.000000\n",
      "Loss: 0.821596, Train accuracy: 0.866667, val accuracy: 0.000000\n",
      "Loss: 0.201604, Train accuracy: 0.933333, val accuracy: 0.066667\n",
      "Loss: 0.393748, Train accuracy: 1.000000, val accuracy: 0.000000\n",
      "Loss: 0.376190, Train accuracy: 1.000000, val accuracy: 0.000000\n",
      "Loss: 0.130528, Train accuracy: 1.000000, val accuracy: 0.000000\n",
      "Loss: 0.019262, Train accuracy: 1.000000, val accuracy: 0.000000\n"
     ]
    }
   ],
   "source": [
    "# Now, tweak some hyper parameters and make it train to 1.0 accuracy in 20 epochs or less\n",
    "\n",
    "model = TwoLayerNet(n_input = train_X.shape[1], n_output = 10, hidden_layer_size = 300, reg = 1e-5)\n",
    "dataset = Dataset(train_X[:data_size], train_y[:data_size], val_X[:data_size], val_y[:data_size])\n",
    "# TODO: Change any hyperparamers or optimizators to reach training accuracy in 20 epochs\n",
    "trainer = Trainer(model, dataset, MomentumSGD(), learning_rate=1e-1, num_epochs=20, batch_size=10)\n",
    "\n",
    "loss_history, train_history, val_history = trainer.fit()"
   ]
  },
  {
   "cell_type": "markdown",
   "metadata": {},
   "source": [
    "# Итак, основное мероприятие!\n",
    "\n",
    "Натренируйте лучшую нейросеть! Можно добавлять и изменять параметры, менять количество нейронов в слоях сети и как угодно экспериментировать. \n",
    "\n",
    "Добейтесь точности лучше **60%** на validation set."
   ]
  },
  {
   "cell_type": "code",
   "execution_count": 15,
   "metadata": {
    "scrolled": true
   },
   "outputs": [
    {
     "name": "stdout",
     "output_type": "stream",
     "text": [
      "Loss: 2.254306, Train accuracy: 0.331222, val accuracy: 0.328000\n",
      "Loss: 2.126411, Train accuracy: 0.390778, val accuracy: 0.384000\n",
      "Loss: 1.599023, Train accuracy: 0.571889, val accuracy: 0.563000\n",
      "Loss: 1.760083, Train accuracy: 0.574556, val accuracy: 0.556000\n",
      "Loss: 1.589157, Train accuracy: 0.608889, val accuracy: 0.595000\n",
      "Loss: 1.722784, Train accuracy: 0.645889, val accuracy: 0.620000\n",
      "Loss: 1.604754, Train accuracy: 0.604667, val accuracy: 0.580000\n",
      "Loss: 1.350564, Train accuracy: 0.620778, val accuracy: 0.587000\n",
      "Loss: 1.217317, Train accuracy: 0.656000, val accuracy: 0.634000\n",
      "Loss: 1.455710, Train accuracy: 0.629111, val accuracy: 0.602000\n",
      "Loss: 1.511602, Train accuracy: 0.628111, val accuracy: 0.609000\n",
      "Loss: 1.824530, Train accuracy: 0.670667, val accuracy: 0.649000\n",
      "Loss: 1.476099, Train accuracy: 0.647778, val accuracy: 0.621000\n",
      "Loss: 1.855392, Train accuracy: 0.666778, val accuracy: 0.642000\n",
      "Loss: 1.348010, Train accuracy: 0.648111, val accuracy: 0.643000\n",
      "Loss: 1.547200, Train accuracy: 0.643556, val accuracy: 0.604000\n",
      "Loss: 2.282394, Train accuracy: 0.196778, val accuracy: 0.206000\n",
      "Loss: 1.796187, Train accuracy: 0.413222, val accuracy: 0.413000\n",
      "Loss: 1.388561, Train accuracy: 0.522556, val accuracy: 0.528000\n",
      "Loss: 1.355581, Train accuracy: 0.551667, val accuracy: 0.533000\n",
      "Loss: 1.347657, Train accuracy: 0.626222, val accuracy: 0.621000\n",
      "Loss: 1.256202, Train accuracy: 0.649667, val accuracy: 0.637000\n",
      "Loss: 1.573478, Train accuracy: 0.686333, val accuracy: 0.654000\n",
      "Loss: 1.020023, Train accuracy: 0.677111, val accuracy: 0.640000\n",
      "Loss: 1.420729, Train accuracy: 0.693000, val accuracy: 0.661000\n",
      "Loss: 1.247349, Train accuracy: 0.706778, val accuracy: 0.642000\n",
      "Loss: 1.085667, Train accuracy: 0.697889, val accuracy: 0.649000\n",
      "Loss: 1.111005, Train accuracy: 0.681889, val accuracy: 0.650000\n",
      "Loss: 1.375995, Train accuracy: 0.692889, val accuracy: 0.654000\n",
      "Loss: 1.096636, Train accuracy: 0.713333, val accuracy: 0.657000\n",
      "Loss: 1.338693, Train accuracy: 0.724111, val accuracy: 0.681000\n",
      "Loss: 1.507795, Train accuracy: 0.712444, val accuracy: 0.662000\n",
      "Loss: 1.918294, Train accuracy: 0.344000, val accuracy: 0.340000\n",
      "Loss: 1.534832, Train accuracy: 0.505444, val accuracy: 0.503000\n",
      "Loss: 1.196199, Train accuracy: 0.608778, val accuracy: 0.610000\n",
      "Loss: 1.659714, Train accuracy: 0.607111, val accuracy: 0.565000\n",
      "Loss: 1.953897, Train accuracy: 0.579778, val accuracy: 0.570000\n",
      "Loss: 2.243311, Train accuracy: 0.621667, val accuracy: 0.592000\n",
      "Loss: 1.441544, Train accuracy: 0.632889, val accuracy: 0.592000\n",
      "Loss: 1.970416, Train accuracy: 0.645222, val accuracy: 0.616000\n",
      "Loss: 1.229949, Train accuracy: 0.634556, val accuracy: 0.601000\n",
      "Loss: 1.678381, Train accuracy: 0.612000, val accuracy: 0.598000\n",
      "Loss: 2.274946, Train accuracy: 0.560778, val accuracy: 0.547000\n",
      "Loss: 1.603266, Train accuracy: 0.663556, val accuracy: 0.644000\n",
      "Loss: 1.637930, Train accuracy: 0.637778, val accuracy: 0.603000\n",
      "Loss: 1.469989, Train accuracy: 0.677222, val accuracy: 0.637000\n",
      "Loss: 1.664509, Train accuracy: 0.637111, val accuracy: 0.616000\n",
      "Loss: 1.242116, Train accuracy: 0.663444, val accuracy: 0.633000\n",
      "Loss: 2.297040, Train accuracy: 0.196667, val accuracy: 0.206000\n",
      "Loss: 1.659186, Train accuracy: 0.419333, val accuracy: 0.431000\n",
      "Loss: 1.469761, Train accuracy: 0.582556, val accuracy: 0.561000\n",
      "Loss: 1.448300, Train accuracy: 0.660111, val accuracy: 0.650000\n",
      "Loss: 1.865019, Train accuracy: 0.647889, val accuracy: 0.624000\n",
      "Loss: 1.353616, Train accuracy: 0.638333, val accuracy: 0.608000\n",
      "Loss: 1.059922, Train accuracy: 0.689111, val accuracy: 0.655000\n",
      "Loss: 0.953610, Train accuracy: 0.721556, val accuracy: 0.684000\n",
      "Loss: 0.959192, Train accuracy: 0.711667, val accuracy: 0.674000\n",
      "Loss: 1.066867, Train accuracy: 0.664667, val accuracy: 0.628000\n",
      "Loss: 1.308567, Train accuracy: 0.721444, val accuracy: 0.666000\n",
      "Loss: 1.446622, Train accuracy: 0.746889, val accuracy: 0.682000\n",
      "Loss: 1.211784, Train accuracy: 0.720000, val accuracy: 0.664000\n",
      "Loss: 1.501833, Train accuracy: 0.708889, val accuracy: 0.642000\n",
      "Loss: 1.230393, Train accuracy: 0.737889, val accuracy: 0.662000\n",
      "Loss: 1.753488, Train accuracy: 0.737556, val accuracy: 0.658000\n",
      "Loss: 1.822053, Train accuracy: 0.399667, val accuracy: 0.388000\n",
      "Loss: 2.141065, Train accuracy: 0.516778, val accuracy: 0.511000\n",
      "Loss: 1.802007, Train accuracy: 0.547000, val accuracy: 0.521000\n",
      "Loss: 1.635750, Train accuracy: 0.593222, val accuracy: 0.559000\n",
      "Loss: 1.891536, Train accuracy: 0.595667, val accuracy: 0.597000\n",
      "Loss: 2.245850, Train accuracy: 0.662222, val accuracy: 0.619000\n",
      "Loss: 1.748559, Train accuracy: 0.619111, val accuracy: 0.589000\n",
      "Loss: 1.778481, Train accuracy: 0.619444, val accuracy: 0.576000\n",
      "Loss: 1.859497, Train accuracy: 0.623000, val accuracy: 0.588000\n",
      "Loss: 1.766714, Train accuracy: 0.628667, val accuracy: 0.576000\n",
      "Loss: 1.576040, Train accuracy: 0.582000, val accuracy: 0.546000\n",
      "Loss: 1.551864, Train accuracy: 0.605111, val accuracy: 0.584000\n",
      "Loss: 2.192881, Train accuracy: 0.647889, val accuracy: 0.610000\n",
      "Loss: 1.362135, Train accuracy: 0.571778, val accuracy: 0.549000\n",
      "Loss: 1.821858, Train accuracy: 0.581444, val accuracy: 0.547000\n",
      "Loss: 2.068293, Train accuracy: 0.640222, val accuracy: 0.605000\n",
      "Loss: 1.979435, Train accuracy: 0.196667, val accuracy: 0.206000\n",
      "Loss: 1.705427, Train accuracy: 0.445667, val accuracy: 0.452000\n",
      "Loss: 1.406649, Train accuracy: 0.543222, val accuracy: 0.516000\n",
      "Loss: 1.557181, Train accuracy: 0.650000, val accuracy: 0.638000\n",
      "Loss: 1.223572, Train accuracy: 0.656222, val accuracy: 0.620000\n",
      "Loss: 1.295975, Train accuracy: 0.662667, val accuracy: 0.657000\n",
      "Loss: 1.550672, Train accuracy: 0.697444, val accuracy: 0.659000\n",
      "Loss: 1.424320, Train accuracy: 0.691667, val accuracy: 0.666000\n",
      "Loss: 0.908337, Train accuracy: 0.683889, val accuracy: 0.639000\n",
      "Loss: 1.226932, Train accuracy: 0.682222, val accuracy: 0.634000\n",
      "Loss: 1.137795, Train accuracy: 0.692667, val accuracy: 0.628000\n",
      "Loss: 1.241496, Train accuracy: 0.744889, val accuracy: 0.703000\n",
      "Loss: 1.103151, Train accuracy: 0.789222, val accuracy: 0.719000\n",
      "Loss: 1.178115, Train accuracy: 0.735889, val accuracy: 0.658000\n",
      "Loss: 1.378131, Train accuracy: 0.755667, val accuracy: 0.686000\n",
      "Loss: 1.015791, Train accuracy: 0.740889, val accuracy: 0.687000\n",
      "Loss: 1.685640, Train accuracy: 0.353556, val accuracy: 0.365000\n",
      "Loss: 1.426788, Train accuracy: 0.552778, val accuracy: 0.560000\n",
      "Loss: 1.481496, Train accuracy: 0.618222, val accuracy: 0.583000\n",
      "Loss: 1.322246, Train accuracy: 0.600444, val accuracy: 0.590000\n",
      "Loss: 1.306398, Train accuracy: 0.620778, val accuracy: 0.607000\n",
      "Loss: 1.144718, Train accuracy: 0.666889, val accuracy: 0.633000\n",
      "Loss: 1.331177, Train accuracy: 0.691111, val accuracy: 0.641000\n",
      "Loss: 1.210353, Train accuracy: 0.691778, val accuracy: 0.617000\n",
      "Loss: 1.258379, Train accuracy: 0.716778, val accuracy: 0.661000\n",
      "Loss: 1.329283, Train accuracy: 0.732556, val accuracy: 0.669000\n",
      "Loss: 1.127117, Train accuracy: 0.729667, val accuracy: 0.665000\n",
      "Loss: 1.574156, Train accuracy: 0.755667, val accuracy: 0.674000\n",
      "Loss: 0.998659, Train accuracy: 0.710222, val accuracy: 0.640000\n",
      "Loss: 1.102199, Train accuracy: 0.761000, val accuracy: 0.677000\n",
      "Loss: 0.870651, Train accuracy: 0.736556, val accuracy: 0.668000\n",
      "Loss: 0.574188, Train accuracy: 0.774333, val accuracy: 0.691000\n",
      "Loss: 2.046903, Train accuracy: 0.196667, val accuracy: 0.206000\n",
      "Loss: 2.028230, Train accuracy: 0.381556, val accuracy: 0.383000\n",
      "Loss: 1.630101, Train accuracy: 0.521778, val accuracy: 0.513000\n",
      "Loss: 1.123517, Train accuracy: 0.600889, val accuracy: 0.595000\n",
      "Loss: 1.171586, Train accuracy: 0.668667, val accuracy: 0.646000\n",
      "Loss: 1.141698, Train accuracy: 0.691444, val accuracy: 0.646000\n",
      "Loss: 0.982875, Train accuracy: 0.705778, val accuracy: 0.660000\n",
      "Loss: 1.603487, Train accuracy: 0.715444, val accuracy: 0.668000\n",
      "Loss: 0.805178, Train accuracy: 0.755444, val accuracy: 0.683000\n",
      "Loss: 1.375112, Train accuracy: 0.782778, val accuracy: 0.716000\n",
      "Loss: 0.473615, Train accuracy: 0.786222, val accuracy: 0.706000\n",
      "Loss: 0.981651, Train accuracy: 0.764111, val accuracy: 0.695000\n",
      "Loss: 0.616460, Train accuracy: 0.790889, val accuracy: 0.705000\n",
      "Loss: 1.130234, Train accuracy: 0.784778, val accuracy: 0.707000\n",
      "Loss: 0.385131, Train accuracy: 0.764444, val accuracy: 0.685000\n"
     ]
    },
    {
     "name": "stdout",
     "output_type": "stream",
     "text": [
      "Loss: 0.658248, Train accuracy: 0.753778, val accuracy: 0.666000\n",
      "Loss: 1.927966, Train accuracy: 0.348222, val accuracy: 0.354000\n",
      "Loss: 1.867780, Train accuracy: 0.556667, val accuracy: 0.552000\n",
      "Loss: 0.892738, Train accuracy: 0.627889, val accuracy: 0.608000\n",
      "Loss: 1.123378, Train accuracy: 0.620333, val accuracy: 0.592000\n",
      "Loss: 0.961163, Train accuracy: 0.659333, val accuracy: 0.623000\n",
      "Loss: 1.145410, Train accuracy: 0.690333, val accuracy: 0.642000\n",
      "Loss: 1.186451, Train accuracy: 0.726667, val accuracy: 0.663000\n",
      "Loss: 1.162200, Train accuracy: 0.689000, val accuracy: 0.639000\n",
      "Loss: 0.867996, Train accuracy: 0.712444, val accuracy: 0.645000\n",
      "Loss: 1.174919, Train accuracy: 0.744222, val accuracy: 0.678000\n",
      "Loss: 0.612320, Train accuracy: 0.730667, val accuracy: 0.654000\n",
      "Loss: 0.708881, Train accuracy: 0.766444, val accuracy: 0.694000\n",
      "Loss: 0.933329, Train accuracy: 0.756667, val accuracy: 0.688000\n",
      "Loss: 1.129005, Train accuracy: 0.761778, val accuracy: 0.671000\n",
      "Loss: 1.248485, Train accuracy: 0.766778, val accuracy: 0.680000\n",
      "Loss: 1.059362, Train accuracy: 0.753444, val accuracy: 0.643000\n",
      "Loss: 2.202061, Train accuracy: 0.196667, val accuracy: 0.206000\n",
      "Loss: 1.831331, Train accuracy: 0.419222, val accuracy: 0.427000\n",
      "Loss: 1.282814, Train accuracy: 0.554222, val accuracy: 0.557000\n",
      "Loss: 1.190227, Train accuracy: 0.597222, val accuracy: 0.588000\n",
      "Loss: 0.859605, Train accuracy: 0.667000, val accuracy: 0.654000\n",
      "Loss: 0.891884, Train accuracy: 0.682778, val accuracy: 0.641000\n",
      "Loss: 1.460778, Train accuracy: 0.667556, val accuracy: 0.634000\n",
      "Loss: 0.618438, Train accuracy: 0.725222, val accuracy: 0.661000\n",
      "Loss: 0.703884, Train accuracy: 0.752333, val accuracy: 0.667000\n",
      "Loss: 0.630782, Train accuracy: 0.751000, val accuracy: 0.673000\n",
      "Loss: 0.571686, Train accuracy: 0.767000, val accuracy: 0.677000\n",
      "Loss: 0.858808, Train accuracy: 0.774667, val accuracy: 0.685000\n",
      "Loss: 0.825459, Train accuracy: 0.786667, val accuracy: 0.707000\n",
      "Loss: 0.929023, Train accuracy: 0.794556, val accuracy: 0.690000\n",
      "Loss: 0.727656, Train accuracy: 0.809111, val accuracy: 0.709000\n",
      "Loss: 1.088138, Train accuracy: 0.822000, val accuracy: 0.721000\n",
      "Loss: 1.794897, Train accuracy: 0.342556, val accuracy: 0.347000\n",
      "Loss: 1.283811, Train accuracy: 0.564889, val accuracy: 0.545000\n",
      "Loss: 1.479591, Train accuracy: 0.605778, val accuracy: 0.595000\n",
      "Loss: 1.372194, Train accuracy: 0.622556, val accuracy: 0.600000\n",
      "Loss: 1.422777, Train accuracy: 0.639556, val accuracy: 0.588000\n",
      "Loss: 1.016250, Train accuracy: 0.697333, val accuracy: 0.659000\n",
      "Loss: 1.225558, Train accuracy: 0.683889, val accuracy: 0.636000\n",
      "Loss: 1.400798, Train accuracy: 0.636222, val accuracy: 0.592000\n",
      "Loss: 1.520683, Train accuracy: 0.708333, val accuracy: 0.644000\n",
      "Loss: 0.763430, Train accuracy: 0.746000, val accuracy: 0.668000\n",
      "Loss: 1.160936, Train accuracy: 0.762222, val accuracy: 0.671000\n",
      "Loss: 0.821599, Train accuracy: 0.737222, val accuracy: 0.674000\n",
      "Loss: 2.392201, Train accuracy: 0.751444, val accuracy: 0.649000\n",
      "Loss: 0.745817, Train accuracy: 0.772000, val accuracy: 0.683000\n",
      "Loss: 0.581247, Train accuracy: 0.767333, val accuracy: 0.687000\n",
      "Loss: 0.994627, Train accuracy: 0.785778, val accuracy: 0.694000\n",
      "Loss: 2.333988, Train accuracy: 0.240000, val accuracy: 0.243000\n",
      "Loss: 1.595211, Train accuracy: 0.430667, val accuracy: 0.420000\n",
      "Loss: 1.223798, Train accuracy: 0.576222, val accuracy: 0.560000\n",
      "Loss: 1.091777, Train accuracy: 0.638889, val accuracy: 0.620000\n",
      "Loss: 0.910332, Train accuracy: 0.670333, val accuracy: 0.648000\n",
      "Loss: 1.020046, Train accuracy: 0.707333, val accuracy: 0.662000\n",
      "Loss: 1.207852, Train accuracy: 0.686778, val accuracy: 0.634000\n",
      "Loss: 0.923376, Train accuracy: 0.753889, val accuracy: 0.697000\n",
      "Loss: 0.816725, Train accuracy: 0.742444, val accuracy: 0.673000\n",
      "Loss: 0.585534, Train accuracy: 0.755556, val accuracy: 0.666000\n",
      "Loss: 1.075660, Train accuracy: 0.800111, val accuracy: 0.717000\n",
      "Loss: 0.598124, Train accuracy: 0.792667, val accuracy: 0.700000\n",
      "Loss: 0.885626, Train accuracy: 0.817000, val accuracy: 0.725000\n",
      "Loss: 1.573319, Train accuracy: 0.805111, val accuracy: 0.714000\n",
      "Loss: 0.677455, Train accuracy: 0.808556, val accuracy: 0.718000\n",
      "Loss: 0.361824, Train accuracy: 0.831667, val accuracy: 0.710000\n",
      "Loss: 2.251618, Train accuracy: 0.196667, val accuracy: 0.206000\n",
      "Loss: 2.207555, Train accuracy: 0.196667, val accuracy: 0.206000\n",
      "Loss: 2.179553, Train accuracy: 0.196667, val accuracy: 0.206000\n",
      "Loss: 2.195512, Train accuracy: 0.243111, val accuracy: 0.240000\n",
      "Loss: 1.904117, Train accuracy: 0.276556, val accuracy: 0.286000\n",
      "Loss: 1.662915, Train accuracy: 0.381889, val accuracy: 0.381000\n",
      "Loss: 1.470661, Train accuracy: 0.450333, val accuracy: 0.445000\n",
      "Loss: 1.745269, Train accuracy: 0.501333, val accuracy: 0.491000\n",
      "Loss: 1.538423, Train accuracy: 0.554556, val accuracy: 0.557000\n",
      "Loss: 1.506245, Train accuracy: 0.602889, val accuracy: 0.589000\n",
      "Loss: 1.356762, Train accuracy: 0.616556, val accuracy: 0.613000\n",
      "Loss: 1.480065, Train accuracy: 0.646000, val accuracy: 0.627000\n",
      "Loss: 1.315859, Train accuracy: 0.657556, val accuracy: 0.640000\n",
      "Loss: 1.222084, Train accuracy: 0.658889, val accuracy: 0.650000\n",
      "Loss: 1.052820, Train accuracy: 0.703333, val accuracy: 0.687000\n",
      "Loss: 1.151130, Train accuracy: 0.687556, val accuracy: 0.652000\n",
      "Loss: 2.257615, Train accuracy: 0.196667, val accuracy: 0.206000\n",
      "Loss: 2.237467, Train accuracy: 0.196667, val accuracy: 0.206000\n",
      "Loss: 2.235049, Train accuracy: 0.196667, val accuracy: 0.206000\n",
      "Loss: 2.259883, Train accuracy: 0.196667, val accuracy: 0.206000\n",
      "Loss: 2.214085, Train accuracy: 0.196667, val accuracy: 0.206000\n",
      "Loss: 2.426179, Train accuracy: 0.196667, val accuracy: 0.206000\n",
      "Loss: 2.145073, Train accuracy: 0.212778, val accuracy: 0.218000\n",
      "Loss: 2.145946, Train accuracy: 0.253667, val accuracy: 0.252000\n",
      "Loss: 2.246884, Train accuracy: 0.275111, val accuracy: 0.278000\n",
      "Loss: 1.999682, Train accuracy: 0.292222, val accuracy: 0.294000\n",
      "Loss: 1.685464, Train accuracy: 0.337889, val accuracy: 0.340000\n",
      "Loss: 1.898616, Train accuracy: 0.391222, val accuracy: 0.379000\n",
      "Loss: 1.580447, Train accuracy: 0.422000, val accuracy: 0.416000\n",
      "Loss: 1.479108, Train accuracy: 0.455778, val accuracy: 0.438000\n",
      "Loss: 1.758589, Train accuracy: 0.493667, val accuracy: 0.491000\n",
      "Loss: 1.617894, Train accuracy: 0.516333, val accuracy: 0.503000\n",
      "Loss: 2.203022, Train accuracy: 0.196667, val accuracy: 0.206000\n",
      "Loss: 2.204456, Train accuracy: 0.196667, val accuracy: 0.206000\n",
      "Loss: 2.178056, Train accuracy: 0.196667, val accuracy: 0.206000\n",
      "Loss: 1.975172, Train accuracy: 0.259667, val accuracy: 0.260000\n",
      "Loss: 1.932667, Train accuracy: 0.293222, val accuracy: 0.295000\n",
      "Loss: 1.794984, Train accuracy: 0.394222, val accuracy: 0.387000\n",
      "Loss: 1.719769, Train accuracy: 0.437889, val accuracy: 0.431000\n",
      "Loss: 1.514210, Train accuracy: 0.525444, val accuracy: 0.522000\n",
      "Loss: 1.625731, Train accuracy: 0.586556, val accuracy: 0.575000\n",
      "Loss: 1.234279, Train accuracy: 0.620333, val accuracy: 0.598000\n",
      "Loss: 1.249405, Train accuracy: 0.632000, val accuracy: 0.618000\n",
      "Loss: 1.219928, Train accuracy: 0.654000, val accuracy: 0.637000\n",
      "Loss: 1.467255, Train accuracy: 0.682444, val accuracy: 0.671000\n",
      "Loss: 1.126711, Train accuracy: 0.704000, val accuracy: 0.683000\n",
      "Loss: 1.090782, Train accuracy: 0.708000, val accuracy: 0.685000\n",
      "Loss: 1.166858, Train accuracy: 0.719667, val accuracy: 0.692000\n",
      "Loss: 2.223000, Train accuracy: 0.196667, val accuracy: 0.206000\n",
      "Loss: 2.201388, Train accuracy: 0.196667, val accuracy: 0.206000\n",
      "Loss: 2.171729, Train accuracy: 0.196667, val accuracy: 0.206000\n",
      "Loss: 2.259411, Train accuracy: 0.196667, val accuracy: 0.206000\n",
      "Loss: 2.310657, Train accuracy: 0.196667, val accuracy: 0.206000\n",
      "Loss: 2.180637, Train accuracy: 0.196667, val accuracy: 0.206000\n",
      "Loss: 2.153680, Train accuracy: 0.229222, val accuracy: 0.237000\n",
      "Loss: 2.023013, Train accuracy: 0.268556, val accuracy: 0.267000\n",
      "Loss: 1.848579, Train accuracy: 0.279556, val accuracy: 0.280000\n",
      "Loss: 2.077591, Train accuracy: 0.304111, val accuracy: 0.307000\n",
      "Loss: 1.707497, Train accuracy: 0.361000, val accuracy: 0.357000\n",
      "Loss: 1.665055, Train accuracy: 0.403333, val accuracy: 0.395000\n",
      "Loss: 1.729678, Train accuracy: 0.440667, val accuracy: 0.437000\n",
      "Loss: 1.604274, Train accuracy: 0.481111, val accuracy: 0.477000\n"
     ]
    },
    {
     "name": "stdout",
     "output_type": "stream",
     "text": [
      "Loss: 1.607930, Train accuracy: 0.510889, val accuracy: 0.513000\n",
      "Loss: 1.541639, Train accuracy: 0.546667, val accuracy: 0.547000\n",
      "Loss: 2.268879, Train accuracy: 0.196667, val accuracy: 0.206000\n",
      "Loss: 2.239465, Train accuracy: 0.196667, val accuracy: 0.206000\n",
      "Loss: 2.194430, Train accuracy: 0.205667, val accuracy: 0.217000\n",
      "Loss: 2.073439, Train accuracy: 0.274667, val accuracy: 0.281000\n",
      "Loss: 1.839943, Train accuracy: 0.347444, val accuracy: 0.354000\n",
      "Loss: 1.824723, Train accuracy: 0.437444, val accuracy: 0.430000\n",
      "Loss: 1.509918, Train accuracy: 0.482778, val accuracy: 0.486000\n",
      "Loss: 1.198880, Train accuracy: 0.565778, val accuracy: 0.560000\n",
      "Loss: 1.530526, Train accuracy: 0.605444, val accuracy: 0.598000\n",
      "Loss: 1.390096, Train accuracy: 0.646667, val accuracy: 0.629000\n",
      "Loss: 1.169891, Train accuracy: 0.670778, val accuracy: 0.660000\n",
      "Loss: 1.320987, Train accuracy: 0.687333, val accuracy: 0.664000\n",
      "Loss: 1.163398, Train accuracy: 0.702333, val accuracy: 0.683000\n",
      "Loss: 1.033215, Train accuracy: 0.713000, val accuracy: 0.691000\n",
      "Loss: 1.354127, Train accuracy: 0.714667, val accuracy: 0.686000\n",
      "Loss: 0.961280, Train accuracy: 0.731111, val accuracy: 0.707000\n",
      "Loss: 2.269883, Train accuracy: 0.196667, val accuracy: 0.206000\n",
      "Loss: 2.363315, Train accuracy: 0.196667, val accuracy: 0.206000\n",
      "Loss: 2.258907, Train accuracy: 0.196667, val accuracy: 0.206000\n",
      "Loss: 2.110855, Train accuracy: 0.196667, val accuracy: 0.206000\n",
      "Loss: 2.225914, Train accuracy: 0.196667, val accuracy: 0.206000\n",
      "Loss: 2.187668, Train accuracy: 0.215000, val accuracy: 0.221000\n",
      "Loss: 2.047409, Train accuracy: 0.248667, val accuracy: 0.251000\n",
      "Loss: 1.982592, Train accuracy: 0.276333, val accuracy: 0.276000\n",
      "Loss: 2.038543, Train accuracy: 0.308778, val accuracy: 0.319000\n",
      "Loss: 2.103476, Train accuracy: 0.361333, val accuracy: 0.362000\n",
      "Loss: 1.734906, Train accuracy: 0.406000, val accuracy: 0.393000\n",
      "Loss: 1.857071, Train accuracy: 0.451556, val accuracy: 0.443000\n",
      "Loss: 1.632923, Train accuracy: 0.481444, val accuracy: 0.469000\n",
      "Loss: 1.589954, Train accuracy: 0.522222, val accuracy: 0.512000\n",
      "Loss: 1.498384, Train accuracy: 0.558556, val accuracy: 0.557000\n",
      "Loss: 1.304874, Train accuracy: 0.589667, val accuracy: 0.569000\n",
      "Loss: 2.289988, Train accuracy: 0.196667, val accuracy: 0.206000\n",
      "Loss: 2.238007, Train accuracy: 0.196667, val accuracy: 0.206000\n",
      "Loss: 2.292553, Train accuracy: 0.196667, val accuracy: 0.206000\n",
      "Loss: 2.182730, Train accuracy: 0.253000, val accuracy: 0.257000\n",
      "Loss: 1.877553, Train accuracy: 0.294667, val accuracy: 0.299000\n",
      "Loss: 1.854529, Train accuracy: 0.395000, val accuracy: 0.384000\n",
      "Loss: 1.752844, Train accuracy: 0.463000, val accuracy: 0.459000\n",
      "Loss: 1.727977, Train accuracy: 0.529333, val accuracy: 0.521000\n",
      "Loss: 1.102909, Train accuracy: 0.583000, val accuracy: 0.570000\n",
      "Loss: 1.180660, Train accuracy: 0.617222, val accuracy: 0.601000\n",
      "Loss: 1.132314, Train accuracy: 0.641000, val accuracy: 0.634000\n",
      "Loss: 1.035496, Train accuracy: 0.653778, val accuracy: 0.641000\n",
      "Loss: 1.002736, Train accuracy: 0.686889, val accuracy: 0.664000\n",
      "Loss: 0.889522, Train accuracy: 0.699111, val accuracy: 0.677000\n",
      "Loss: 0.887631, Train accuracy: 0.705111, val accuracy: 0.680000\n",
      "Loss: 0.909662, Train accuracy: 0.722000, val accuracy: 0.696000\n",
      "Loss: 2.289843, Train accuracy: 0.196667, val accuracy: 0.206000\n",
      "Loss: 2.279698, Train accuracy: 0.196667, val accuracy: 0.206000\n",
      "Loss: 2.185790, Train accuracy: 0.196667, val accuracy: 0.206000\n",
      "Loss: 2.223262, Train accuracy: 0.196667, val accuracy: 0.206000\n",
      "Loss: 2.151479, Train accuracy: 0.196667, val accuracy: 0.206000\n",
      "Loss: 2.135546, Train accuracy: 0.196667, val accuracy: 0.206000\n",
      "Loss: 2.202061, Train accuracy: 0.216556, val accuracy: 0.222000\n",
      "Loss: 2.148060, Train accuracy: 0.262556, val accuracy: 0.258000\n",
      "Loss: 1.954106, Train accuracy: 0.274889, val accuracy: 0.276000\n",
      "Loss: 2.055648, Train accuracy: 0.297444, val accuracy: 0.305000\n",
      "Loss: 1.790318, Train accuracy: 0.355889, val accuracy: 0.356000\n",
      "Loss: 1.715621, Train accuracy: 0.399444, val accuracy: 0.395000\n",
      "Loss: 1.725775, Train accuracy: 0.442444, val accuracy: 0.441000\n",
      "Loss: 1.753508, Train accuracy: 0.475000, val accuracy: 0.464000\n",
      "Loss: 1.603721, Train accuracy: 0.519111, val accuracy: 0.511000\n",
      "Loss: 1.271666, Train accuracy: 0.551111, val accuracy: 0.539000\n",
      "Loss: 2.239434, Train accuracy: 0.196667, val accuracy: 0.206000\n",
      "Loss: 2.121695, Train accuracy: 0.196667, val accuracy: 0.206000\n",
      "Loss: 2.058773, Train accuracy: 0.196667, val accuracy: 0.206000\n",
      "Loss: 2.136085, Train accuracy: 0.266889, val accuracy: 0.264000\n",
      "Loss: 1.684052, Train accuracy: 0.330667, val accuracy: 0.338000\n",
      "Loss: 1.757726, Train accuracy: 0.414667, val accuracy: 0.417000\n",
      "Loss: 1.347075, Train accuracy: 0.494556, val accuracy: 0.502000\n",
      "Loss: 1.337596, Train accuracy: 0.557778, val accuracy: 0.563000\n",
      "Loss: 0.983048, Train accuracy: 0.599222, val accuracy: 0.589000\n",
      "Loss: 1.268152, Train accuracy: 0.631556, val accuracy: 0.628000\n",
      "Loss: 0.956209, Train accuracy: 0.657556, val accuracy: 0.656000\n",
      "Loss: 1.256869, Train accuracy: 0.689222, val accuracy: 0.674000\n",
      "Loss: 0.788791, Train accuracy: 0.696111, val accuracy: 0.666000\n",
      "Loss: 0.933741, Train accuracy: 0.716556, val accuracy: 0.675000\n",
      "Loss: 0.850515, Train accuracy: 0.716667, val accuracy: 0.698000\n",
      "Loss: 0.954659, Train accuracy: 0.743222, val accuracy: 0.704000\n",
      "Loss: 2.237853, Train accuracy: 0.196667, val accuracy: 0.206000\n",
      "Loss: 2.221059, Train accuracy: 0.196667, val accuracy: 0.206000\n",
      "Loss: 2.187397, Train accuracy: 0.196667, val accuracy: 0.206000\n",
      "Loss: 2.198040, Train accuracy: 0.196667, val accuracy: 0.206000\n",
      "Loss: 2.127096, Train accuracy: 0.196667, val accuracy: 0.206000\n",
      "Loss: 2.142300, Train accuracy: 0.199000, val accuracy: 0.209000\n",
      "Loss: 2.040913, Train accuracy: 0.234667, val accuracy: 0.240000\n",
      "Loss: 2.126804, Train accuracy: 0.265444, val accuracy: 0.263000\n",
      "Loss: 1.994854, Train accuracy: 0.278667, val accuracy: 0.279000\n",
      "Loss: 2.022149, Train accuracy: 0.305667, val accuracy: 0.321000\n",
      "Loss: 1.676388, Train accuracy: 0.354222, val accuracy: 0.355000\n",
      "Loss: 1.762553, Train accuracy: 0.401889, val accuracy: 0.399000\n",
      "Loss: 1.338166, Train accuracy: 0.424222, val accuracy: 0.425000\n",
      "Loss: 1.471214, Train accuracy: 0.460778, val accuracy: 0.458000\n",
      "Loss: 1.720712, Train accuracy: 0.501222, val accuracy: 0.495000\n",
      "Loss: 1.510452, Train accuracy: 0.542111, val accuracy: 0.531000\n",
      "Loss: 2.220873, Train accuracy: 0.196667, val accuracy: 0.206000\n",
      "Loss: 2.170003, Train accuracy: 0.196667, val accuracy: 0.206000\n",
      "Loss: 2.102265, Train accuracy: 0.215222, val accuracy: 0.221000\n",
      "Loss: 2.003553, Train accuracy: 0.277889, val accuracy: 0.285000\n",
      "Loss: 1.866359, Train accuracy: 0.367778, val accuracy: 0.355000\n",
      "Loss: 1.666542, Train accuracy: 0.467889, val accuracy: 0.456000\n",
      "Loss: 1.511211, Train accuracy: 0.537000, val accuracy: 0.524000\n",
      "Loss: 1.214783, Train accuracy: 0.578444, val accuracy: 0.563000\n",
      "Loss: 1.450148, Train accuracy: 0.604000, val accuracy: 0.584000\n",
      "Loss: 1.027872, Train accuracy: 0.650000, val accuracy: 0.632000\n",
      "Loss: 1.107080, Train accuracy: 0.678556, val accuracy: 0.662000\n",
      "Loss: 1.266228, Train accuracy: 0.693889, val accuracy: 0.672000\n",
      "Loss: 0.809288, Train accuracy: 0.707556, val accuracy: 0.686000\n",
      "Loss: 0.725788, Train accuracy: 0.709556, val accuracy: 0.687000\n",
      "Loss: 1.220702, Train accuracy: 0.738111, val accuracy: 0.705000\n",
      "Loss: 1.169159, Train accuracy: 0.745778, val accuracy: 0.698000\n",
      "Loss: 2.269383, Train accuracy: 0.196667, val accuracy: 0.206000\n",
      "Loss: 2.168217, Train accuracy: 0.196667, val accuracy: 0.206000\n",
      "Loss: 2.307187, Train accuracy: 0.196667, val accuracy: 0.206000\n",
      "Loss: 2.240944, Train accuracy: 0.196667, val accuracy: 0.206000\n",
      "Loss: 2.148221, Train accuracy: 0.196667, val accuracy: 0.206000\n",
      "Loss: 2.125828, Train accuracy: 0.210000, val accuracy: 0.219000\n",
      "Loss: 2.149337, Train accuracy: 0.264667, val accuracy: 0.260000\n",
      "Loss: 1.958116, Train accuracy: 0.280667, val accuracy: 0.279000\n",
      "Loss: 1.960467, Train accuracy: 0.310222, val accuracy: 0.311000\n",
      "Loss: 1.788591, Train accuracy: 0.376444, val accuracy: 0.382000\n",
      "Loss: 1.912907, Train accuracy: 0.414111, val accuracy: 0.401000\n",
      "Loss: 1.845096, Train accuracy: 0.451333, val accuracy: 0.444000\n",
      "Loss: 1.506228, Train accuracy: 0.501778, val accuracy: 0.487000\n"
     ]
    },
    {
     "name": "stdout",
     "output_type": "stream",
     "text": [
      "Loss: 1.306147, Train accuracy: 0.533111, val accuracy: 0.528000\n",
      "Loss: 1.324272, Train accuracy: 0.571667, val accuracy: 0.550000\n",
      "Loss: 1.270970, Train accuracy: 0.597889, val accuracy: 0.579000\n",
      "best validation accuracy achieved: 0.721000\n"
     ]
    }
   ],
   "source": [
    "# Let's train the best one-hidden-layer network we can\n",
    "\n",
    "# Best parameters for now are (0.78, 50, 25, 200, 0.9, 0.8, 0.001, 0.1)\n",
    "# best_parameters = (val_history[len(val_history)-1], batch, epoch, laysize, decay, moment, reg, rate)\n",
    "\n",
    "learning_rates = [1e-1, 1e-2]\n",
    "reg_strength = [1e-3, 1e-5]\n",
    "hidden_layer_sizes = [64, 128, 256]\n",
    "batch_size = [64, 128]\n",
    "num_epochs = 16\n",
    "\n",
    "best_classifier = None\n",
    "best_val_accuracy = 0\n",
    "\n",
    "loss_history = []\n",
    "train_history = []\n",
    "val_history = []\n",
    "\n",
    "dataset = Dataset(train_X, train_y, val_X, val_y)\n",
    "\n",
    "# TODO find the best hyperparameters to train the network\n",
    "# Don't hesitate to add new values to the arrays above, perform experiments, use any tricks you want\n",
    "# You should expect to get to at least 40% of valudation accuracy\n",
    "# Save loss/train/history of the best classifier to the variables above\n",
    "for lr in learning_rates:\n",
    "    for rs in reg_strength:\n",
    "        for ls in hidden_layer_sizes:\n",
    "            for bs in batch_size:\n",
    "                model = TwoLayerNet(n_input=train_X.shape[1], n_output=10, hidden_layer_size=ls, reg=rs)\n",
    "                trainer = Trainer(model, dataset, MomentumSGD(), learning_rate=lr, num_epochs=num_epochs, batch_size=bs)\n",
    "                temp_loss_history, temp_train_history, temp_val_history = trainer.fit()\n",
    "                \n",
    "                if temp_val_history[-1] > best_val_accuracy:\n",
    "                    best_classifier = model\n",
    "                    best_val_accuracy = temp_val_history[-1]\n",
    "                    loss_history = temp_loss_history.copy()\n",
    "                    train_history = temp_train_history.copy()\n",
    "                    val_history = temp_val_history.copy()\n",
    "    \n",
    "print('best validation accuracy achieved: %f' % best_val_accuracy)"
   ]
  },
  {
   "cell_type": "code",
   "execution_count": 16,
   "metadata": {},
   "outputs": [
    {
     "data": {
      "text/plain": [
       "[<matplotlib.lines.Line2D at 0x7f6f1610efd0>]"
      ]
     },
     "execution_count": 16,
     "metadata": {},
     "output_type": "execute_result"
    },
    {
     "data": {
      "image/png": "[encoded data removed]",
      "text/plain": [
       "<Figure size 1080x504 with 2 Axes>"
      ]
     },
     "metadata": {
      "needs_background": "light"
     },
     "output_type": "display_data"
    }
   ],
   "source": [
    "plt.figure(figsize=(15, 7))\n",
    "plt.subplot(211)\n",
    "plt.title(\"Loss\")\n",
    "plt.plot(loss_history)\n",
    "plt.subplot(212)\n",
    "plt.title(\"Train/validation accuracy\")\n",
    "plt.plot(train_history)\n",
    "plt.plot(val_history)"
   ]
  },
  {
   "cell_type": "markdown",
   "metadata": {},
   "source": [
    "# Как обычно, посмотрим, как наша лучшая модель работает на тестовых данных"
   ]
  },
  {
   "cell_type": "code",
   "execution_count": 17,
   "metadata": {},
   "outputs": [
    {
     "name": "stdout",
     "output_type": "stream",
     "text": [
      "Neural net test set accuracy: 0.694000\n"
     ]
    }
   ],
   "source": [
    "test_pred = best_classifier.predict(test_X)\n",
    "test_accuracy = multiclass_accuracy(test_pred, test_y)\n",
    "print('Neural net test set accuracy: %f' % (test_accuracy, ))"
   ]
  },
  {
   "cell_type": "code",
   "execution_count": null,
   "metadata": {},
   "outputs": [],
   "source": []
  }
 ],
 "metadata": {
  "kernelspec": {
   "display_name": "Python 3",
   "language": "python",
   "name": "python3"
  },
  "language_info": {
   "codemirror_mode": {
    "name": "ipython",
    "version": 3
   },
   "file_extension": ".py",
   "mimetype": "text/x-python",
   "name": "python",
   "nbconvert_exporter": "python",
   "pygments_lexer": "ipython3",
   "version": "3.6.9"
  }
 },
 "nbformat": 4,
 "nbformat_minor": 2
}
